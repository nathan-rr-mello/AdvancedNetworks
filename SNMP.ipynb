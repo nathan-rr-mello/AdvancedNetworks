{
 "cells": [
  {
   "cell_type": "markdown",
   "metadata": {},
   "source": [
    "# SNMP - Simple Network Management Protocol\n",
    "\n",
    "## Install snmpd tools, agent and mibs"
   ]
  },
  {
   "cell_type": "code",
   "execution_count": null,
   "metadata": {},
   "outputs": [],
   "source": [
    "%%bash\n",
    "\n",
    "# Install SNMP - Linux\n",
    "sudo apt update\n",
    "sudo apt install -y snmp snmpd snmp-mibs-downloader"
   ]
  },
  {
   "cell_type": "markdown",
   "metadata": {},
   "source": [
    "## Configure agent configuration file (/etc/snmp/snmpd.conf) and snmp tools configuration file (/etc/snmp/snmp.conf)"
   ]
  },
  {
   "cell_type": "code",
   "execution_count": null,
   "metadata": {},
   "outputs": [],
   "source": [
    "%%bash\n",
    "\n",
    "sudo mv /etc/snmp/snmpd.conf /etc/snmp/snmpd.conf.old\n",
    "\n",
    "sudo tee /etc/snmp/snmpd.conf > /dev/null <<EOF\n",
    "rocommunity public\n",
    "rwcommunity private\n",
    "EOF\n",
    "\n",
    "sudo sed -i '/mibs :/s/^/#/' /etc/snmp/snmp.conf"
   ]
  },
  {
   "cell_type": "markdown",
   "metadata": {},
   "source": [
    "## Start snmpd daemon (agent)"
   ]
  },
  {
   "cell_type": "code",
   "execution_count": null,
   "metadata": {},
   "outputs": [],
   "source": [
    "%%bash\n",
    "\n",
    "sudo service snmpd restart\n",
    "sudo service snmpd status\n",
    "\n",
    "# Mac\n",
    "# sudo launchctl unload /System/Library/LaunchDaemons/org.net-snmp.snmpd.plist\n",
    "# sudo launchctl load -w /System/Library/LaunchDaemons/org.net-snmp.snmpd.plist"
   ]
  },
  {
   "cell_type": "markdown",
   "metadata": {},
   "source": [
    "## List all downloaded mibs"
   ]
  },
  {
   "cell_type": "code",
   "execution_count": null,
   "metadata": {},
   "outputs": [],
   "source": [
    "%%bash\n",
    "\n",
    "ls -R /usr/share/snmp/mibs"
   ]
  },
  {
   "cell_type": "markdown",
   "metadata": {},
   "source": [
    "## Show RFC1213 object tree"
   ]
  },
  {
   "cell_type": "code",
   "execution_count": null,
   "metadata": {},
   "outputs": [],
   "source": [
    "%%bash\n",
    "\n",
    "# Variables\n",
    "MIB=\"/usr/share/snmp/mibs/ietf/RFC1213-MIB\"\n",
    "\n",
    "snmptranslate -m $MIB -Tp"
   ]
  },
  {
   "cell_type": "markdown",
   "metadata": {},
   "source": [
    "## Show the description of a specific object"
   ]
  },
  {
   "cell_type": "code",
   "execution_count": null,
   "metadata": {},
   "outputs": [],
   "source": [
    "%%bash\n",
    "\n",
    "# Variables\n",
    "OBJECT=\"sysDescr\"\n",
    "MIB=\"/usr/share/snmp/mibs/ietf/RFC1213-MIB\"\n",
    "\n",
    "# Command to extract text from search_string to } excluding the }\n",
    "sed -n \"/$OBJECT OBJECT-TYPE/,/}/p\" $MIB"
   ]
  },
  {
   "cell_type": "markdown",
   "metadata": {},
   "source": [
    "## Using snmpget"
   ]
  },
  {
   "cell_type": "code",
   "execution_count": null,
   "metadata": {},
   "outputs": [],
   "source": [
    "%%bash\n",
    "\n",
    "# snmpget -v <SNMP version> -c <community> <host> <obj1> <obj2> <obj3> \n",
    "\n",
    "snmpget -v 1 -c public localhost sysDescr.0 sysContact.0"
   ]
  },
  {
   "cell_type": "markdown",
   "metadata": {},
   "source": [
    "## Using snmpset"
   ]
  },
  {
   "cell_type": "code",
   "execution_count": null,
   "metadata": {},
   "outputs": [],
   "source": [
    "%%bash\n",
    "\n",
    "snmpset -v 1 -c private localhost sysContact.0 s admin@localhost\n",
    "snmpget -v 1 -c public localhost sysContact.0"
   ]
  },
  {
   "cell_type": "markdown",
   "metadata": {},
   "source": [
    "## Using snmpgetnext"
   ]
  },
  {
   "cell_type": "code",
   "execution_count": null,
   "metadata": {},
   "outputs": [],
   "source": [
    "%%bash\n",
    "\n",
    "snmpgetnext -v 1 -c public localhost system interfaces"
   ]
  },
  {
   "cell_type": "markdown",
   "metadata": {},
   "source": [
    "## Using snmpwalk"
   ]
  },
  {
   "cell_type": "code",
   "execution_count": null,
   "metadata": {},
   "outputs": [],
   "source": [
    "%%bash\n",
    "\n",
    "# run on terminal: sudo tcpdump -i lo -n port 161 -v\n",
    "snmpwalk -v 1 -c public localhost system"
   ]
  },
  {
   "cell_type": "markdown",
   "metadata": {},
   "source": [
    "## Other commands"
   ]
  },
  {
   "cell_type": "code",
   "execution_count": null,
   "metadata": {},
   "outputs": [],
   "source": [
    "%%bash\n",
    "\n",
    "snmptable -v 1 -c public localhost ifTable"
   ]
  },
  {
   "cell_type": "code",
   "execution_count": null,
   "metadata": {},
   "outputs": [],
   "source": [
    "%%bash\n",
    "\n",
    "snmpdelta -v 1 -c public -Cs -CT localhost sysUpTime.0"
   ]
  },
  {
   "cell_type": "code",
   "execution_count": null,
   "metadata": {},
   "outputs": [],
   "source": [
    "%%bash\n",
    "\n",
    "killall snmpdelta"
   ]
  },
  {
   "cell_type": "markdown",
   "metadata": {},
   "source": [
    "## Exercícios - SNMPv1"
   ]
  },
  {
   "cell_type": "markdown",
   "metadata": {},
   "source": [
    "a) obter o endereço físico (MAC) da 2a. interface de rede da tabela ifTable"
   ]
  },
  {
   "cell_type": "code",
   "execution_count": null,
   "metadata": {},
   "outputs": [],
   "source": [
    "%%bash\n",
    "\n",
    "snmpget -v 1 -c public localhost ifPhysAddress.2"
   ]
  },
  {
   "cell_type": "markdown",
   "metadata": {},
   "source": [
    "b) obter o número de mensagens ICMP enviadas e recebidas pelo elemento gerenciado"
   ]
  },
  {
   "cell_type": "code",
   "execution_count": null,
   "metadata": {},
   "outputs": [],
   "source": [
    "%%bash\n",
    "\n",
    "snmpget -v 1 -c public localhost icmpInMsgs.0 icmpOutMsgs.0"
   ]
  },
  {
   "cell_type": "markdown",
   "metadata": {},
   "source": [
    "c) obter o número de requisições GET recebidos pelo agente no elemento gerenciado."
   ]
  },
  {
   "cell_type": "code",
   "execution_count": null,
   "metadata": {},
   "outputs": [],
   "source": [
    "%%bash\n",
    "\n",
    "snmpget -v 1 -c public localhost snmpInGetRequests.0"
   ]
  },
  {
   "cell_type": "markdown",
   "metadata": {},
   "source": [
    "d) modificar o nome do elemento gerenciado para \"Gerencia\""
   ]
  },
  {
   "cell_type": "code",
   "execution_count": null,
   "metadata": {},
   "outputs": [],
   "source": [
    "%%bash\n",
    "\n",
    "snmpset -v 1 -c private localhost sysName.0 s \"Gerencia\""
   ]
  },
  {
   "cell_type": "markdown",
   "metadata": {},
   "source": [
    "e) modificar a identificação da localização do elemento gerenciado para \"LabRedes\""
   ]
  },
  {
   "cell_type": "code",
   "execution_count": null,
   "metadata": {},
   "outputs": [],
   "source": [
    "%%bash\n",
    "\n",
    "snmpset -v 1 -c private localhost sysLocation.0 s \"LabRedes\""
   ]
  },
  {
   "cell_type": "markdown",
   "metadata": {},
   "source": [
    "f) obter a descrição da interface localizada na 1a. linha da tabela ifTable"
   ]
  },
  {
   "cell_type": "code",
   "execution_count": null,
   "metadata": {},
   "outputs": [],
   "source": [
    "%%bash\n",
    "\n",
    "snmpgetnext -v 1 -c public localhost ifDescr"
   ]
  },
  {
   "cell_type": "markdown",
   "metadata": {},
   "source": [
    "g) obter o endereço IP, índice da interface na tabela ifTable, máscara de rede e endereço de broadcast da primeira entrada da tabela ipAddrEntry"
   ]
  },
  {
   "cell_type": "code",
   "execution_count": null,
   "metadata": {},
   "outputs": [],
   "source": [
    "%%bash\n",
    "\n",
    "snmpgetnext -v 1 -c public localhost ipAdEntIfIndex ipAdEntNetMask ipAdEntBcastAddr"
   ]
  },
  {
   "cell_type": "markdown",
   "metadata": {},
   "source": [
    "h) obter o endereço local e porta local da primeira linha da tabela udpTable"
   ]
  },
  {
   "cell_type": "code",
   "execution_count": null,
   "metadata": {},
   "outputs": [],
   "source": [
    "%%bash\n",
    "\n",
    "snmpgetnext -v 1 -c public localhost udpLocalPort udpLocalAddress"
   ]
  },
  {
   "cell_type": "markdown",
   "metadata": {},
   "source": [
    "## Using snmpbulkget"
   ]
  },
  {
   "cell_type": "code",
   "execution_count": null,
   "metadata": {},
   "outputs": [],
   "source": [
    "%%bash\n",
    "\n",
    "snmpbulkget -v2c -c public localhost -Cn2 -Cr3 system interfaces ifIndex ifDescr ifSpeed"
   ]
  },
  {
   "cell_type": "code",
   "execution_count": null,
   "metadata": {},
   "outputs": [],
   "source": [
    "%%bash\n",
    "\n",
    "snmpbulkget -v2c -c public localhost -Cn4 -Cr5 tcpInSegs tcpOutSegs tcpRetransSegs tcpInErrs tcpConnState tcpConnLocalAddress tcpConnLocalPort tcpConnRemAddress tcpConnRemPort"
   ]
  },
  {
   "cell_type": "code",
   "execution_count": null,
   "metadata": {},
   "outputs": [],
   "source": [
    "%%bash\n",
    "\n",
    "snmpbulkget -v2c -c public localhost -Cn0 -Cr4 udpLocalAddress udpLocalPort"
   ]
  },
  {
   "cell_type": "markdown",
   "metadata": {},
   "source": [
    "## Comparing snmpwalk vs snmpbulkwalk\n",
    "\n"
   ]
  },
  {
   "cell_type": "code",
   "execution_count": null,
   "metadata": {},
   "outputs": [],
   "source": [
    "%%bash\n",
    "\n",
    "# run on terminal: sudo tcpdump -i lo -n port 161 -v\n",
    "# snmpwalk -v 1 -c public localhost system\n",
    "\n",
    "snmpbulkwalk -v 2c -c public localhost system"
   ]
  },
  {
   "cell_type": "markdown",
   "metadata": {},
   "source": [
    "# Example using pass directive"
   ]
  },
  {
   "cell_type": "markdown",
   "metadata": {},
   "source": [
    "## snmpd.conf"
   ]
  },
  {
   "cell_type": "code",
   "execution_count": null,
   "metadata": {},
   "outputs": [],
   "source": [
    "%%bash\n",
    "\n",
    "# Add pass directive to snmpd.conf\n",
    "sudo tee /etc/snmp/snmpd.conf > /dev/null <<EOF\n",
    "rocommunity public\n",
    "rwcommunity private\n",
    "\n",
    "pass .1.3.6.1.3.1234.1 /usr/bin/python3 /tmp/agent.py\n",
    "EOF\n",
    "\n",
    "# Restart agent - Linux\n",
    "sudo service snmpd restart\n",
    "sudo service snmpd status\n",
    "\n",
    "# Restart agent - Mac\n",
    "# sudo launchctl unload /System/Library/LaunchDaemons/org.net-snmp.snmpd.plist\n",
    "# sudo launchctl load -w /System/Library/LaunchDaemons/org.net-snmp.snmpd.plist"
   ]
  },
  {
   "cell_type": "markdown",
   "metadata": {},
   "source": [
    "## Agent code"
   ]
  },
  {
   "cell_type": "code",
   "execution_count": null,
   "metadata": {},
   "outputs": [],
   "source": [
    "%%writefile /tmp/agent.py\n",
    "\n",
    "#!/usr/bin/env python3\n",
    "\n",
    "import sys\n",
    "import datetime\n",
    "import socket\n",
    "import os\n",
    "\n",
    "def get_snmp_type(var) -> str:\n",
    "    if type(var) == str:\n",
    "        return \"string\"\n",
    "    elif type(var) == int:\n",
    "        return \"integer\"\n",
    "    else:\n",
    "        return \"<unknown>\"\n",
    "\n",
    "def main():\n",
    "\n",
    "    model_name = \"Tesla Model S 2024\"\n",
    "    manufacturing_date = datetime.datetime(year= 2024, month= 2, day= 29, hour= 14, min= 30, second= 58).strftime(\"%Y-%m-%d %H:%M:%S\")\n",
    "    ac_temp = 23\n",
    "    battery_percentage = 86\n",
    "    horsepower = 670\n",
    "    max_speed = 267\n",
    "    interior_lights = 2\n",
    "\n",
    "    door_index1 = 1\n",
    "    door_index2 = 2\n",
    "    door_index3 = 3\n",
    "    door_index4 = 4\n",
    "\n",
    "    door_status1 = 1\n",
    "    door_status2 = 2\n",
    "    door_status3 = 2\n",
    "    door_status4 = 1\n",
    "\n",
    "    door_window1 = 3\n",
    "    door_window2 = 2\n",
    "    door_window3 = 1\n",
    "    door_window4 = 3\n",
    "\n",
    "    objects = { \".1.3.6.1.3.1234.1.1.0\" : model_name, \n",
    "                \".1.3.6.1.3.1234.1.2.0\" : manufacturing_date,\n",
    "                \".1.3.6.1.3.1234.1.3.0\" : ac_temp,\n",
    "                \".1.3.6.1.3.1234.1.4.0\" : battery_percentage,\n",
    "                \".1.3.6.1.3.1234.1.5.0\" : horsepower,\n",
    "                \".1.3.6.1.3.1234.1.6.0\" : max_speed,\n",
    "                \".1.3.6.1.3.1234.1.7.0\" : interior_lights,\n",
    "                \".1.3.6.1.3.1234.1.8.1.1.1\" : door_index1,\n",
    "                \".1.3.6.1.3.1234.1.8.1.1.2\" : door_index2,\n",
    "                \".1.3.6.1.3.1234.1.8.1.1.3\" : door_index3,\n",
    "                \".1.3.6.1.3.1234.1.8.1.1.4\" : door_index4,\n",
    "\n",
    "                \".1.3.6.1.3.1234.1.8.1.2.1\" : door_status1,\n",
    "                \".1.3.6.1.3.1234.1.8.1.2.2\" : door_status2,\n",
    "                \".1.3.6.1.3.1234.1.8.1.2.3\" : door_status3,\n",
    "                \".1.3.6.1.3.1234.1.8.1.2.4\" : door_status4,\n",
    "\n",
    "                \".1.3.6.1.3.1234.1.8.1.3.1\" : door_window1,\n",
    "                \".1.3.6.1.3.1234.1.8.1.3.2\" : door_window2,\n",
    "                \".1.3.6.1.3.1234.1.8.1.3.3\" : door_window3,\n",
    "                \".1.3.6.1.3.1234.1.8.1.3.4\" : door_window4 }\n",
    "    \n",
    "\n",
    "    with open(\"/tmp/agent.log\", 'a') as file:\n",
    "        file.write(' '.join(sys.argv) + '\\n')\n",
    "\n",
    "    if len(sys.argv) < 3:\n",
    "        print(\"Usage: agent.py <request-type> <MIB-oid> [type] [<new-value>]\")\n",
    "        return\n",
    "\n",
    "    request_type = sys.argv[1]\n",
    "    oid = sys.argv[2]\n",
    "\n",
    "    if request_type == \"-g\":  # GET request\n",
    "        if oid in objects:\n",
    "            print(oid)\n",
    "            print(get_snmp_type(objects[oid]))\n",
    "            print(objects[oid])\n",
    "        else:\n",
    "            print(\"NONE\")\n",
    "    elif request_type == \"-s\":  # SET request\n",
    "        if oid in objects and len(sys.argv) == 5:\n",
    "            content_type = sys.argv[3]\n",
    "            new_content = sys.argv[4]\n",
    "            if content_type == \"i\"\n",
    "                new_content = int(new_content)\n",
    "            elif content_type == \"s\"\n",
    "                new_content = str(new_content)\n",
    "            print(oid)\n",
    "            print(get_snmp_type(new_content))\n",
    "            print(new_content)\n",
    "            objects[oid] = new_content\n",
    "        else:\n",
    "            print(\"NONE\")\n",
    "    elif request_type == \"-gn\" #GETNEXT request\n",
    "        \n",
    "        if oid in objects: #caso de pegar o valor da proxima chave\n",
    "            #pegar o próximo objeto a partir da entrada na tabela\n",
    "            \n",
    "        else: #caso de pegar o próximo nó folha, achar a primeira chave que contém o oid\n",
    "            #iterar sobre as chaves checando qual chave contem o oid e retornar a primeira\n",
    "            \n",
    "        print(\"NONE\")\n",
    "\n",
    "if __name__ == \"__main__\":\n",
    "    main()"
   ]
  },
  {
   "cell_type": "markdown",
   "metadata": {},
   "source": [
    "## Testing"
   ]
  },
  {
   "cell_type": "code",
   "execution_count": null,
   "metadata": {},
   "outputs": [],
   "source": [
    "%%bash\n",
    "\n",
    "snmpget -v2c -c public localhost .1.3.6.1.3.1234.1.1.0\n",
    "snmpget -v2c -c public localhost .1.3.6.1.3.1234.1.2.0\n",
    "snmpget -v2c -c public localhost .1.3.6.1.3.1234.1.3.0"
   ]
  },
  {
   "cell_type": "code",
   "execution_count": null,
   "metadata": {},
   "outputs": [],
   "source": [
    "%%bash\n",
    "\n",
    "snmpset -v2c -c private localhost .1.3.6.1.3.1234.1.3.0 s teste"
   ]
  },
  {
   "cell_type": "code",
   "execution_count": null,
   "metadata": {},
   "outputs": [],
   "source": [
    "%%writefile MYMIB.txt\n",
    "\n",
    "MIB-T2 DEFINITIONS ::= BEGIN\n",
    "\n",
    "IMPORTS\n",
    "    OBJECT-GROUP FROM SNMPv2-CONF\n",
    "    OBJECT-TYPE, experimental FROM SNMPv2-SMI\n",
    "    DisplayString FROM SNMPv2-TC;\n",
    "\n",
    "teslaMIB MODULE-IDENTITY\n",
    "    LAST-UPDATED \"202406290000Z\"\n",
    "    ORGANIZATION \"PUCRS\"\n",
    "    CONTACT-INFO \"admin@localhost\"\n",
    "    DESCRIPTION \"MIB for acessing information about tesla cars.\"\n",
    "::= { experimental 1234 }\n",
    "\n",
    "t_Info OBJECT IDENTIFIER ::= { teslaMIB 1 }\n",
    "\n",
    "t_ModelName OBJECT-TYPE\n",
    "    SYNTAX  DisplayString (SIZE (0..255))\n",
    "    ACCESS  read-only\n",
    "    STATUS  mandatory\n",
    "    DESCRIPTION\n",
    "            \"Tesla model name.\"\n",
    "    ::= { t_Info 1 }\n",
    "\n",
    "t_ManDate OBJECT-TYPE\n",
    "    SYNTAX  DisplayString (SIZE (0..255))\n",
    "    ACCESS  read-only\n",
    "    STATUS  mandatory\n",
    "    DESCRIPTION\n",
    "            \"Tesla manufacturing date\"\n",
    "    ::= { t_Info 2 }\n",
    "\n",
    "t_ACTemp OBJECT-TYPE\n",
    "    SYNTAX  INTEGER\n",
    "    ACCESS  read-write\n",
    "    STATUS  mandatory\n",
    "    DESCRIPTION\n",
    "            \"Temperature set on the air conditioner on celsius.\"\n",
    "    ::= { t_Info 3 }\n",
    "\n",
    "t_BatteryPercentage OBJECT-TYPE\n",
    "    SYNTAX  INTEGER (0..100)\n",
    "    ACCESS  read-only\n",
    "    STATUS  mandatory\n",
    "    DESCRIPTION\n",
    "            \"Tesla battery percentage\"\n",
    "    ::= { t_Info 4 }\n",
    "\n",
    "t_HP OBJECT-TYPE\n",
    "    SYNTAX  INTEGER\n",
    "    ACCESS  read-only\n",
    "    STATUS  mandatory\n",
    "    DESCRIPTION\n",
    "            \"Tesla HP\"\n",
    "    ::= { t_Info 5 }\n",
    "\n",
    "t_MaxSpeed OBJECT-TYPE\n",
    "    SYNTAX  INTEGER\n",
    "    ACCESS  read-only\n",
    "    STATUS  mandatory\n",
    "    DESCRIPTION\n",
    "            \"Tesla max speed reached\"\n",
    "    ::= { t_Info 6 }\n",
    "\n",
    "t_InterLigths OBJECT-TYPE\n",
    "    SYNTAX  INTEGER {\n",
    "                    on(1),\n",
    "                    off(2),\n",
    "                }\n",
    "    ACCESS  read-only\n",
    "    STATUS  read-write\n",
    "    DESCRIPTION\n",
    "            \"Tesla interior lights config\"\n",
    "    ::= { t_Info 7 }\n",
    "\n",
    "t_DoorTable OBJECT-TYPE \n",
    "    SYNTAX SEQUENCE OF t_DoorEntry\n",
    "    ACCESS not-accessible\n",
    "    STATUS mandatory\n",
    "    DESCRIPTION\n",
    "    \"A list of door info entries.\" \n",
    "    ::= { t_Info 8 }\n",
    "\n",
    "t_DoorEntry OBJECT-TYPE\n",
    "    SYNTAX  t_DoorEntry\n",
    "    ACCESS  not-accessible\n",
    "    STATUS  mandatory\n",
    "    DESCRIPTION \"Information entry about vehicle doors.\"\n",
    "    INDEX   { t_DoorIndex }\n",
    "    ::= { t_DoorTable 1 }\n",
    "\n",
    "t_DoorEntry ::=\n",
    "    SEQUENCE {\n",
    "        t_DoorStatus    INTEGER,\n",
    "        t_DoorWindow    INTEGER\n",
    "    }\n",
    "\n",
    "t_DoorIndex OBJECT-TYPE\n",
    "    SYNTAX  INTEGER { front-right(1), front-left(2), rear-right(3), rear-left(4) }\n",
    "    ACCESS  read-only\n",
    "    STATUS  mandatory\n",
    "    DESCRIPTION \"Door identifier.\"\n",
    "    ::= { t_DoorEntry 1 }\n",
    "\n",
    "t_DoorStatus OBJECT-TYPE\n",
    "    SYNTAX  INTEGER { open(1), closed(2) }\n",
    "    ACCESS  read-write\n",
    "    STATUS  mandatory\n",
    "    DESCRIPTION \"Door status, tracks opening and closing of doors.\"\n",
    "    ::= { t_DoorEntry 2 }\n",
    "\n",
    "t_DoorWindow OBJECT-TYPE\n",
    "    SYNTAX  INTEGER { open(1), half-open(2), closed(3) }\n",
    "    ACCESS  read-only\n",
    "    STATUS  mandatory\n",
    "    DESCRIPTION \"Door window status.\"\n",
    "    ::= { t_DoorEntry 3 }\n",
    "\n",
    "END"
   ]
  },
  {
   "cell_type": "code",
   "execution_count": null,
   "metadata": {},
   "outputs": [],
   "source": [
    "%%bash\n",
    "\n",
    "snmpget -v2c -c public -M +. -m +MYMIB localhost myCurrentDateTime.0\n",
    "snmpget -v2c -c public -M +. -m +MYMIB localhost myHostname.0\n",
    "snmpget -v2c -c public -M +. -m +MYMIB localhost myFileContent.0\n"
   ]
  },
  {
   "cell_type": "code",
   "execution_count": null,
   "metadata": {},
   "outputs": [],
   "source": [
    "%%bash\n",
    "\n",
    "snmpset -v2c -c private -M +. -m +MYMIB localhost myFileContent.0 s teste"
   ]
  }
 ],
 "metadata": {
  "kernelspec": {
   "display_name": "Python 3",
   "language": "python",
   "name": "python3"
  },
  "language_info": {
   "codemirror_mode": {
    "name": "ipython",
    "version": 3
   },
   "file_extension": ".py",
   "mimetype": "text/x-python",
   "name": "python",
   "nbconvert_exporter": "python",
   "pygments_lexer": "ipython3",
   "version": "3.10.13"
  }
 },
 "nbformat": 4,
 "nbformat_minor": 2
}
