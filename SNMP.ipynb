{
 "cells": [
  {
   "cell_type": "markdown",
   "metadata": {},
   "source": [
    "# SNMP - Simple Network Management Protocol\n",
    "\n",
    "## Install snmpd tools, agent and mibs"
   ]
  },
  {
   "cell_type": "code",
   "execution_count": null,
   "metadata": {},
   "outputs": [],
   "source": [
    "%%bash\n",
    "\n",
    "# Install SNMP - Linux\n",
    "sudo apt update\n",
    "sudo apt install -y snmp snmpd snmp-mibs-downloader"
   ]
  },
  {
   "cell_type": "markdown",
   "metadata": {},
   "source": [
    "## Configure agent configuration file (/etc/snmp/snmpd.conf) and snmp tools configuration file (/etc/snmp/snmp.conf)"
   ]
  },
  {
   "cell_type": "code",
   "execution_count": null,
   "metadata": {},
   "outputs": [],
   "source": [
    "%%bash\n",
    "\n",
    "sudo mv /etc/snmp/snmpd.conf /etc/snmp/snmpd.conf.old\n",
    "\n",
    "sudo tee /etc/snmp/snmpd.conf > /dev/null <<EOF\n",
    "rocommunity public\n",
    "rwcommunity private\n",
    "EOF\n",
    "\n",
    "sudo sed -i '/mibs :/s/^/#/' /etc/snmp/snmp.conf"
   ]
  },
  {
   "cell_type": "markdown",
   "metadata": {},
   "source": [
    "## Start snmpd daemon (agent)"
   ]
  },
  {
   "cell_type": "code",
   "execution_count": null,
   "metadata": {},
   "outputs": [],
   "source": [
    "%%bash\n",
    "\n",
    "sudo service snmpd restart\n",
    "sudo service snmpd status\n",
    "\n",
    "# Mac\n",
    "# sudo launchctl unload /System/Library/LaunchDaemons/org.net-snmp.snmpd.plist\n",
    "# sudo launchctl load -w /System/Library/LaunchDaemons/org.net-snmp.snmpd.plist"
   ]
  },
  {
   "cell_type": "markdown",
   "metadata": {},
   "source": [
    "## List all downloaded mibs"
   ]
  },
  {
   "cell_type": "code",
   "execution_count": null,
   "metadata": {},
   "outputs": [],
   "source": [
    "%%bash\n",
    "\n",
    "ls -R /usr/share/snmp/mibs"
   ]
  },
  {
   "cell_type": "markdown",
   "metadata": {},
   "source": [
    "## Show RFC1213 object tree"
   ]
  },
  {
   "cell_type": "code",
   "execution_count": null,
   "metadata": {},
   "outputs": [],
   "source": [
    "%%bash\n",
    "\n",
    "# Variables\n",
    "MIB=\"/usr/share/snmp/mibs/ietf/RFC1213-MIB\"\n",
    "\n",
    "snmptranslate -m $MIB -Tp"
   ]
  },
  {
   "cell_type": "markdown",
   "metadata": {},
   "source": [
    "## Show the description of a specific object"
   ]
  },
  {
   "cell_type": "code",
   "execution_count": null,
   "metadata": {},
   "outputs": [],
   "source": [
    "%%bash\n",
    "\n",
    "# Variables\n",
    "OBJECT=\"sysDescr\"\n",
    "MIB=\"/usr/share/snmp/mibs/ietf/RFC1213-MIB\"\n",
    "\n",
    "# Command to extract text from search_string to } excluding the }\n",
    "sed -n \"/$OBJECT OBJECT-TYPE/,/}/p\" $MIB"
   ]
  },
  {
   "cell_type": "markdown",
   "metadata": {},
   "source": [
    "## Using snmpget"
   ]
  },
  {
   "cell_type": "code",
   "execution_count": null,
   "metadata": {},
   "outputs": [],
   "source": [
    "%%bash\n",
    "\n",
    "# snmpget -v <SNMP version> -c <community> <host> <obj1> <obj2> <obj3> \n",
    "\n",
    "snmpget -v 1 -c public localhost sysDescr.0 sysContact.0"
   ]
  },
  {
   "cell_type": "markdown",
   "metadata": {},
   "source": [
    "## Using snmpset"
   ]
  },
  {
   "cell_type": "code",
   "execution_count": null,
   "metadata": {},
   "outputs": [],
   "source": [
    "%%bash\n",
    "\n",
    "snmpset -v 1 -c private localhost sysContact.0 s admin@localhost\n",
    "snmpget -v 1 -c public localhost sysContact.0"
   ]
  },
  {
   "cell_type": "markdown",
   "metadata": {},
   "source": [
    "## Using snmpgetnext"
   ]
  },
  {
   "cell_type": "code",
   "execution_count": null,
   "metadata": {},
   "outputs": [],
   "source": [
    "%%bash\n",
    "\n",
    "snmpgetnext -v 1 -c public localhost system interfaces"
   ]
  },
  {
   "cell_type": "markdown",
   "metadata": {},
   "source": [
    "## Using snmpwalk"
   ]
  },
  {
   "cell_type": "code",
   "execution_count": null,
   "metadata": {},
   "outputs": [],
   "source": [
    "%%bash\n",
    "\n",
    "# run on terminal: sudo tcpdump -i lo -n port 161 -v\n",
    "snmpwalk -v 1 -c public localhost system"
   ]
  },
  {
   "cell_type": "markdown",
   "metadata": {},
   "source": [
    "## Other commands"
   ]
  },
  {
   "cell_type": "code",
   "execution_count": null,
   "metadata": {},
   "outputs": [],
   "source": [
    "%%bash\n",
    "\n",
    "snmptable -v 1 -c public localhost ifTable"
   ]
  },
  {
   "cell_type": "code",
   "execution_count": null,
   "metadata": {},
   "outputs": [],
   "source": [
    "%%bash\n",
    "\n",
    "snmpdelta -v 1 -c public -Cs -CT localhost sysUpTime.0"
   ]
  },
  {
   "cell_type": "code",
   "execution_count": null,
   "metadata": {},
   "outputs": [],
   "source": [
    "%%bash\n",
    "\n",
    "killall snmpdelta"
   ]
  },
  {
   "cell_type": "markdown",
   "metadata": {},
   "source": [
    "## Exercícios - SNMPv1"
   ]
  },
  {
   "cell_type": "markdown",
   "metadata": {},
   "source": [
    "a) obter o endereço físico (MAC) da 2a. interface de rede da tabela ifTable"
   ]
  },
  {
   "cell_type": "code",
   "execution_count": null,
   "metadata": {},
   "outputs": [],
   "source": [
    "%%bash\n",
    "\n",
    "snmpget -v 1 -c public localhost ifPhysAddress.2"
   ]
  },
  {
   "cell_type": "markdown",
   "metadata": {},
   "source": [
    "b) obter o número de mensagens ICMP enviadas e recebidas pelo elemento gerenciado"
   ]
  },
  {
   "cell_type": "code",
   "execution_count": null,
   "metadata": {},
   "outputs": [],
   "source": [
    "%%bash\n",
    "\n",
    "snmpget -v 1 -c public localhost icmpInMsgs.0 icmpOutMsgs.0"
   ]
  },
  {
   "cell_type": "markdown",
   "metadata": {},
   "source": [
    "c) obter o número de requisições GET recebidos pelo agente no elemento gerenciado."
   ]
  },
  {
   "cell_type": "code",
   "execution_count": null,
   "metadata": {},
   "outputs": [],
   "source": [
    "%%bash\n",
    "\n",
    "snmpget -v 1 -c public localhost snmpInGetRequests.0"
   ]
  },
  {
   "cell_type": "markdown",
   "metadata": {},
   "source": [
    "d) modificar o nome do elemento gerenciado para \"Gerencia\""
   ]
  },
  {
   "cell_type": "code",
   "execution_count": null,
   "metadata": {},
   "outputs": [],
   "source": [
    "%%bash\n",
    "\n",
    "snmpset -v 1 -c private localhost sysName.0 s \"Gerencia\""
   ]
  },
  {
   "cell_type": "markdown",
   "metadata": {},
   "source": [
    "e) modificar a identificação da localização do elemento gerenciado para \"LabRedes\""
   ]
  },
  {
   "cell_type": "code",
   "execution_count": null,
   "metadata": {},
   "outputs": [],
   "source": [
    "%%bash\n",
    "\n",
    "snmpset -v 1 -c private localhost sysLocation.0 s \"LabRedes\""
   ]
  },
  {
   "cell_type": "markdown",
   "metadata": {},
   "source": [
    "f) obter a descrição da interface localizada na 1a. linha da tabela ifTable"
   ]
  },
  {
   "cell_type": "code",
   "execution_count": null,
   "metadata": {},
   "outputs": [],
   "source": [
    "%%bash\n",
    "\n",
    "snmpgetnext -v 1 -c public localhost ifDescr"
   ]
  },
  {
   "cell_type": "markdown",
   "metadata": {},
   "source": [
    "g) obter o endereço IP, índice da interface na tabela ifTable, máscara de rede e endereço de broadcast da primeira entrada da tabela ipAddrEntry"
   ]
  },
  {
   "cell_type": "code",
   "execution_count": null,
   "metadata": {},
   "outputs": [],
   "source": [
    "%%bash\n",
    "\n",
    "snmpgetnext -v 1 -c public localhost ipAdEntIfIndex ipAdEntNetMask ipAdEntBcastAddr"
   ]
  },
  {
   "cell_type": "markdown",
   "metadata": {},
   "source": [
    "h) obter o endereço local e porta local da primeira linha da tabela udpTable"
   ]
  },
  {
   "cell_type": "code",
   "execution_count": null,
   "metadata": {},
   "outputs": [],
   "source": [
    "%%bash\n",
    "\n",
    "snmpgetnext -v 1 -c public localhost udpLocalPort udpLocalAddress"
   ]
  },
  {
   "cell_type": "markdown",
   "metadata": {},
   "source": [
    "## Using snmpbulkget"
   ]
  },
  {
   "cell_type": "code",
   "execution_count": null,
   "metadata": {},
   "outputs": [],
   "source": [
    "%%bash\n",
    "\n",
    "snmpbulkget -v2c -c public localhost -Cn2 -Cr3 system interfaces ifIndex ifDescr ifSpeed"
   ]
  },
  {
   "cell_type": "code",
   "execution_count": null,
   "metadata": {},
   "outputs": [],
   "source": [
    "%%bash\n",
    "\n",
    "snmpbulkget -v2c -c public localhost -Cn4 -Cr5 tcpInSegs tcpOutSegs tcpRetransSegs tcpInErrs tcpConnState tcpConnLocalAddress tcpConnLocalPort tcpConnRemAddress tcpConnRemPort"
   ]
  },
  {
   "cell_type": "code",
   "execution_count": null,
   "metadata": {},
   "outputs": [],
   "source": [
    "%%bash\n",
    "\n",
    "snmpbulkget -v2c -c public localhost -Cn0 -Cr4 udpLocalAddress udpLocalPort"
   ]
  },
  {
   "cell_type": "markdown",
   "metadata": {},
   "source": [
    "## Comparing snmpwalk vs snmpbulkwalk\n",
    "\n"
   ]
  },
  {
   "cell_type": "code",
   "execution_count": null,
   "metadata": {},
   "outputs": [],
   "source": [
    "%%bash\n",
    "\n",
    "# run on terminal: sudo tcpdump -i lo -n port 161 -v\n",
    "# snmpwalk -v 1 -c public localhost system\n",
    "\n",
    "snmpbulkwalk -v 2c -c public localhost system"
   ]
  },
  {
   "cell_type": "markdown",
   "metadata": {},
   "source": [
    "# Example using pass directive"
   ]
  },
  {
   "cell_type": "markdown",
   "metadata": {},
   "source": [
    "## snmpd.conf"
   ]
  },
  {
   "cell_type": "code",
   "execution_count": 5,
   "metadata": {},
   "outputs": [
    {
     "name": "stdout",
     "output_type": "stream",
     "text": [
      " * snmpd is running\n"
     ]
    }
   ],
   "source": [
    "%%bash\n",
    "\n",
    "# Add pass directive to snmpd.conf\n",
    "sudo tee /etc/snmp/snmpd.conf > /dev/null <<EOF\n",
    "rocommunity public\n",
    "rwcommunity private\n",
    "\n",
    "pass .1.3.6.1.3.1234.1 /usr/bin/python3 /tmp/agent.py\n",
    "EOF\n",
    "\n",
    "# Restart agent - Linux\n",
    "sudo service snmpd restart\n",
    "sudo service snmpd status\n",
    "\n",
    "# Restart agent - Mac\n",
    "# sudo launchctl unload /System/Library/LaunchDaemons/org.net-snmp.snmpd.plist\n",
    "# sudo launchctl load -w /System/Library/LaunchDaemons/org.net-snmp.snmpd.plist"
   ]
  },
  {
   "cell_type": "code",
   "execution_count": null,
   "metadata": {},
   "outputs": [],
   "source": [
    "%%writefile /tmp/objects.json\n",
    "{\n",
    "    \".1.3.6.1.3.1234.1.1.0\": \"Tesla Model S 2024\",\n",
    "    \".1.3.6.1.3.1234.1.2.0\": \"2024-02-29 14:30:58\",\n",
    "    \".1.3.6.1.3.1234.1.3.0\": 23,\n",
    "    \".1.3.6.1.3.1234.1.4.0\": 86,\n",
    "    \".1.3.6.1.3.1234.1.5.0\": 670,\n",
    "    \".1.3.6.1.3.1234.1.6.0\": 267,\n",
    "    \".1.3.6.1.3.1234.1.7.0\": 2,\n",
    "    \".1.3.6.1.3.1234.1.8.1.1.1\": 1,\n",
    "    \".1.3.6.1.3.1234.1.8.1.1.2\": 2,\n",
    "    \".1.3.6.1.3.1234.1.8.1.1.3\": 3,\n",
    "    \".1.3.6.1.3.1234.1.8.1.1.4\": 4,\n",
    "    \".1.3.6.1.3.1234.1.8.1.2.1\": 1,\n",
    "    \".1.3.6.1.3.1234.1.8.1.2.2\": 2,\n",
    "    \".1.3.6.1.3.1234.1.8.1.2.3\": 2,\n",
    "    \".1.3.6.1.3.1234.1.8.1.2.4\": 1,\n",
    "    \".1.3.6.1.3.1234.1.8.1.3.1\": 3,\n",
    "    \".1.3.6.1.3.1234.1.8.1.3.2\": 2,\n",
    "    \".1.3.6.1.3.1234.1.8.1.3.3\": 1,\n",
    "    \".1.3.6.1.3.1234.1.8.1.3.4\": 3\n",
    "}"
   ]
  },
  {
   "cell_type": "code",
   "execution_count": 20,
   "metadata": {},
   "outputs": [
    {
     "name": "stdout",
     "output_type": "stream",
     "text": [
      "Writing /tmp/objects.json\n"
     ]
    }
   ],
   "source": [
    "%%writefile /tmp/objects.json\n",
    "{\n",
    "    \"tModelName\": \"Tesla Model S 2024\",\n",
    "    \"tManDate\": \"2024-02-29 14:30:58\",\n",
    "    \"tACTemp\": 23,\n",
    "    \"tBatteryPercentage\": 86,\n",
    "    \"tHP\": 670,\n",
    "    \"tMaxSpeed\": 267,\n",
    "    \"tInterLigths\": 2,\n",
    "    \"tDoorIndex1\": 1,\n",
    "    \"tDoorIndex2\": 2,\n",
    "    \"tDoorIndex3\": 3,\n",
    "    \"tDoorIndex4\": 4,\n",
    "    \"tDoorStatus1\": 1,\n",
    "    \"tDoorStatus2\": 2,\n",
    "    \"tDoorStatus3\": 2,\n",
    "    \"tDoorStatus4\": 1,\n",
    "    \"tDoorWindow1\": 3,\n",
    "    \"tDoorWindow2\": 2,\n",
    "    \"tDoorWindow3\": 1,\n",
    "    \"tDoorWindow4\": 3\n",
    "}"
   ]
  },
  {
   "cell_type": "markdown",
   "metadata": {},
   "source": [
    "## Agent code"
   ]
  },
  {
   "cell_type": "code",
   "execution_count": 23,
   "metadata": {},
   "outputs": [
    {
     "name": "stdout",
     "output_type": "stream",
     "text": [
      "Overwriting /tmp/agent.py\n"
     ]
    }
   ],
   "source": [
    "%%writefile /tmp/agent.py\n",
    "\n",
    "#!/usr/bin/env python3\n",
    "\n",
    "import sys\n",
    "import datetime\n",
    "import socket\n",
    "import os\n",
    "import json\n",
    "\n",
    "oids2objects = {\n",
    "    \".1.3.6.1.3.1234.1.1.0\": \"tModelName\",\n",
    "    \".1.3.6.1.3.1234.1.2.0\": \"tManDate\",\n",
    "    \".1.3.6.1.3.1234.1.3.0\": \"tACTemp\",\n",
    "    \".1.3.6.1.3.1234.1.4.0\": \"tBatteryPercentage\",\n",
    "    \".1.3.6.1.3.1234.1.5.0\": \"tHP\",\n",
    "    \".1.3.6.1.3.1234.1.6.0\": \"tMaxSpeed\",\n",
    "    \".1.3.6.1.3.1234.1.7.0\": \"tInterLigths\",\n",
    "    \".1.3.6.1.3.1234.1.8.1.1.1\": \"tDoorIndex1\",\n",
    "    \".1.3.6.1.3.1234.1.8.1.1.2\": \"tDoorIndex2\",\n",
    "    \".1.3.6.1.3.1234.1.8.1.1.3\": \"tDoorIndex3\",\n",
    "    \".1.3.6.1.3.1234.1.8.1.1.4\": \"tDoorIndex4\",\n",
    "    \".1.3.6.1.3.1234.1.8.1.2.1\": \"tDoorStatus1\",\n",
    "    \".1.3.6.1.3.1234.1.8.1.2.2\": \"tDoorStatus2\",\n",
    "    \".1.3.6.1.3.1234.1.8.1.2.3\": \"tDoorStatus3\",\n",
    "    \".1.3.6.1.3.1234.1.8.1.2.4\": \"tDoorStatus4\",\n",
    "    \".1.3.6.1.3.1234.1.8.1.3.1\": \"tDoorWindow1\",\n",
    "    \".1.3.6.1.3.1234.1.8.1.3.2\": \"tDoorWindow2\",\n",
    "    \".1.3.6.1.3.1234.1.8.1.3.3\": \"tDoorWindow3\",\n",
    "    \".1.3.6.1.3.1234.1.8.1.3.4\": \"tDoorWindow4\"\n",
    "}\n",
    "\n",
    "settable_objects =  {   \n",
    "    \".1.3.6.1.3.1234.1.3.0\": \"tACTemp\",\n",
    "    \".1.3.6.1.3.1234.1.7.0\": \"tInterLigths\",\n",
    "    \".1.3.6.1.3.1234.1.8.1.2.1\": \"tDoorStatus1\",\n",
    "    \".1.3.6.1.3.1234.1.8.1.2.2\": \"tDoorStatus2\",\n",
    "    \".1.3.6.1.3.1234.1.8.1.2.3\": \"tDoorStatus3\",\n",
    "    \".1.3.6.1.3.1234.1.8.1.2.4\": \"tDoorStatus4\",\n",
    "}\n",
    "\n",
    "def get_snmp_type(var) -> str:\n",
    "    if type(var) == str:\n",
    "        return \"string\"\n",
    "    elif type(var) == int:\n",
    "        return \"integer\"\n",
    "    else:\n",
    "        return \"<unknown>\"\n",
    "    \n",
    "def load_objects(file_path):\n",
    "    if os.path.exists(file_path):\n",
    "        with open(file_path, 'r') as file:\n",
    "            return json.load(file)\n",
    "    else:\n",
    "        raise FileNotFoundError(f\"Arquivo {file_path} não encontrado.\")\n",
    "\n",
    "def save_objects(file_path, objects):\n",
    "    with open(file_path, 'w') as file:\n",
    "        json.dump(objects, file)\n",
    "\n",
    "def get_object(objects, oid):\n",
    "    field = oids2objects[oid]\n",
    "    value = objects[field]\n",
    "    return value\n",
    "\n",
    "def set_object(objects, oid, value):\n",
    "    with open(\"/tmp/objects.json\", \"w\") as file:\n",
    "        field = settable_objects[oid]\n",
    "        objects[field] = value\n",
    "        json.dump(objects, file)\n",
    "\n",
    "def main():\n",
    "\n",
    "\n",
    "    file_path = \"/tmp/objects.json\"\n",
    "    try:\n",
    "        objects = load_objects(file_path)\n",
    "    except FileNotFoundError as e:\n",
    "        print(str(e))\n",
    "        return\n",
    "\n",
    "    #with open(\"/tmp/agent.log\", 'a') as file:\n",
    "        #file.write(' '.join(sys.argv) + '\\n')\n",
    "\n",
    "    if len(sys.argv) < 3:\n",
    "        print(\"Usage: agent.py <request-type> <MIB-oid> [type] [<new-value>]\")\n",
    "        return\n",
    "\n",
    "    request_type = sys.argv[1]\n",
    "    oid = sys.argv[2]\n",
    "\n",
    "    if request_type == \"-g\":  # GET request\n",
    "        if oid in oids2objects:\n",
    "            obj = get_object(objects, oid)\n",
    "            print(oid)\n",
    "            print(get_snmp_type(obj))\n",
    "            print(obj)\n",
    "        else:\n",
    "            print(\"NONE\")\n",
    "            \n",
    "    elif request_type == \"-s\":  # SET request\n",
    "        if oid in settable_objects and len(sys.argv) == 5:\n",
    "            content_type = sys.argv[3]\n",
    "            new_content = sys.argv[4]\n",
    "            if content_type == \"i\":\n",
    "                new_content = int(new_content)\n",
    "            elif content_type == \"s\":\n",
    "                new_content = str(new_content)\n",
    "            set_object(objects, oid, new_content)\n",
    "            print(oid)\n",
    "            print(get_snmp_type(new_content))\n",
    "            print(new_content)\n",
    "        elif oid in oids2objects:\n",
    "            obj = get_object(objects, oid)\n",
    "            print(oid)\n",
    "            print(get_snmp_type(obj))\n",
    "            print(obj)\n",
    "        else:\n",
    "            print(\"NONE\")\n",
    "\n",
    "    elif request_type == \"-n\": #GETNEXT request\n",
    "        keys = list(oids2objects.keys())\n",
    "        if oid in oids2objects:\n",
    "            idx = keys.index(oid) + 1\n",
    "            if idx < len(keys):\n",
    "                next_oid = keys[idx]\n",
    "                obj = get_object(objects, next_oid)\n",
    "                print(next_oid)\n",
    "                print(get_snmp_type(obj))\n",
    "                print(obj)\n",
    "            else:\n",
    "                print(\"NONE\")\n",
    "        else:\n",
    "            found = False\n",
    "            for key in keys:\n",
    "                if oid in key:\n",
    "                    found = True\n",
    "                    obj = get_object(objects, key)\n",
    "                    print(key)\n",
    "                    print(get_snmp_type(obj))\n",
    "                    print(obj)\n",
    "                    break\n",
    "            if not found:\n",
    "                print(\"NONE\")\n",
    "        \n",
    "\n",
    "if __name__ == \"__main__\":\n",
    "    main()"
   ]
  },
  {
   "cell_type": "markdown",
   "metadata": {},
   "source": [
    "## Testing"
   ]
  },
  {
   "cell_type": "code",
   "execution_count": 24,
   "metadata": {},
   "outputs": [
    {
     "name": "stdout",
     "output_type": "stream",
     "text": [
      ".1.3.6.1.3.1234.1.1.0\n",
      "string\n",
      "Tesla Model S 2024\n",
      ".1.3.6.1.3.1234.1.3.0\n",
      "integer\n",
      "25\n",
      ".1.3.6.1.3.1234.1.8.1.1.3\n",
      "integer\n",
      "3\n"
     ]
    }
   ],
   "source": [
    "%%bash\n",
    "\n",
    "python3 /tmp/agent.py -g .1.3.6.1.3.1234.1.1.0\n",
    "python3 /tmp/agent.py -s .1.3.6.1.3.1234.1.3.0 i 25\n",
    "python3 /tmp/agent.py -n .1.3.6.1.3.1234.1.8.1.1.2\n"
   ]
  },
  {
   "cell_type": "code",
   "execution_count": 3,
   "metadata": {},
   "outputs": [
    {
     "name": "stdout",
     "output_type": "stream",
     "text": [
      "Error while terminating subprocess (pid=14153): \n"
     ]
    },
    {
     "name": "stderr",
     "output_type": "stream",
     "text": [
      "Timeout: No Response from localhost\n"
     ]
    }
   ],
   "source": [
    "%%bash\n",
    "\n",
    "snmpset -v2c -c private localhost .1.3.6.1.3.1234.1.3.0 s teste"
   ]
  },
  {
   "cell_type": "code",
   "execution_count": 42,
   "metadata": {},
   "outputs": [
    {
     "name": "stdout",
     "output_type": "stream",
     "text": [
      "Overwriting MYMIB.txt\n"
     ]
    }
   ],
   "source": [
    "%%writefile MYMIB.txt\n",
    "MIB-T2 DEFINITIONS ::= BEGIN\n",
    "\n",
    "IMPORTS\n",
    "    OBJECT-GROUP FROM SNMPv2-CONF\n",
    "    OBJECT-TYPE, experimental FROM SNMPv2-SMI\n",
    "    DisplayString FROM SNMPv2-TC;\n",
    "\n",
    "teslaMIB MODULE-IDENTITY\n",
    "    LAST-UPDATED \"202406290000Z\"\n",
    "    ORGANIZATION \"PUCRS\"\n",
    "    CONTACT-INFO \"admin@localhost\"\n",
    "    DESCRIPTION \"MIB for acessing information about tesla cars.\"\n",
    "::= { experimental 1234 }\n",
    "\n",
    "tInfo OBJECT IDENTIFIER ::= { teslaMIB 1 }\n",
    "\n",
    "tModelName OBJECT-TYPE\n",
    "    SYNTAX  DisplayString (SIZE (0..255))\n",
    "    MAX-ACCESS  read-only\n",
    "    STATUS  current\n",
    "    DESCRIPTION\n",
    "            \"Tesla model name.\"\n",
    "    ::= { tInfo 1 }\n",
    "\n",
    "tManDate OBJECT-TYPE\n",
    "    SYNTAX  DisplayString (SIZE (0..255))\n",
    "    MAX-ACCESS  read-only\n",
    "    STATUS  current\n",
    "    DESCRIPTION\n",
    "            \"Tesla manufacturing date\"\n",
    "    ::= { tInfo 2 }\n",
    "\n",
    "tACTemp OBJECT-TYPE\n",
    "    SYNTAX  INTEGER\n",
    "    MAX-ACCESS  read-write\n",
    "    STATUS  current\n",
    "    DESCRIPTION\n",
    "            \"Temperature set on the air conditioner on celsius.\"\n",
    "    ::= { tInfo 3 }\n",
    "\n",
    "tBatteryPercentage OBJECT-TYPE\n",
    "    SYNTAX  INTEGER (0..100)\n",
    "    MAX-ACCESS  read-only\n",
    "    STATUS  current\n",
    "    DESCRIPTION\n",
    "            \"Tesla battery percentage\"\n",
    "    ::= { tInfo 4 }\n",
    "\n",
    "tHP OBJECT-TYPE\n",
    "    SYNTAX  INTEGER\n",
    "    MAX-ACCESS  read-only\n",
    "    STATUS  current\n",
    "    DESCRIPTION\n",
    "            \"Tesla HP\"\n",
    "    ::= { tInfo 5 }\n",
    "\n",
    "tMaxSpeed OBJECT-TYPE\n",
    "    SYNTAX  INTEGER\n",
    "    MAX-ACCESS  read-only\n",
    "    STATUS  current\n",
    "    DESCRIPTION\n",
    "            \"Tesla max speed reached\"\n",
    "    ::= { tInfo 6 }\n",
    "\n",
    "tInterLigths OBJECT-TYPE\n",
    "    SYNTAX  INTEGER {\n",
    "                    on(1),\n",
    "                    off(2),\n",
    "                }\n",
    "    MAX-ACCESS  read-write\n",
    "    STATUS  current\n",
    "    DESCRIPTION\n",
    "            \"Tesla interior lights config\"\n",
    "    ::= { tInfo 7 }\n",
    "\n",
    "tDoorTable OBJECT-TYPE \n",
    "    SYNTAX SEQUENCE OF tDoorEntry\n",
    "    MAX-ACCESS not-accessible\n",
    "    STATUS current\n",
    "    DESCRIPTION\n",
    "    \"A list of door info entries.\" \n",
    "    ::= { tInfo 8 }\n",
    "\n",
    "tDoorEntry OBJECT-TYPE\n",
    "    SYNTAX  tDoorEntry\n",
    "    MAX-ACCESS  not-accessible\n",
    "    STATUS  current\n",
    "    DESCRIPTION \"Information entry about vehicle doors.\"\n",
    "    INDEX   { tDoorIndex }\n",
    "    ::= { tDoorTable 1 }\n",
    "\n",
    "tDoorEntry ::=\n",
    "    SEQUENCE {\n",
    "        tDoorStatus    INTEGER,\n",
    "        tDoorWindow    INTEGER\n",
    "    }\n",
    "\n",
    "tDoorIndex OBJECT-TYPE\n",
    "    SYNTAX  INTEGER { front-right(1), front-left(2), rear-right(3), rear-left(4) }\n",
    "    MAX-ACCESS  read-only\n",
    "    STATUS  current\n",
    "    DESCRIPTION \"Door identifier.\"\n",
    "    ::= { tDoorEntry 1 }\n",
    "\n",
    "tDoorStatus OBJECT-TYPE\n",
    "    SYNTAX  INTEGER { open(1), closed(2) }\n",
    "    MAX-ACCESS  read-write\n",
    "    STATUS  current\n",
    "    DESCRIPTION \"Door status, tracks opening and closing of doors.\"\n",
    "    ::= { tDoorEntry 2 }\n",
    "\n",
    "tDoorWindow OBJECT-TYPE\n",
    "    SYNTAX  INTEGER { open(1), half-open(2), closed(3) }\n",
    "    MAX-ACCESS  read-only\n",
    "    STATUS  current\n",
    "    DESCRIPTION \"Door window status.\"\n",
    "    ::= { tDoorEntry 3 }\n",
    "\n",
    "END"
   ]
  },
  {
   "cell_type": "code",
   "execution_count": 43,
   "metadata": {},
   "outputs": [
    {
     "name": "stdout",
     "output_type": "stream",
     "text": [
      "SNMPv2-SMI::experimental.1234.1.1.0 = STRING: \"Tesla Model S 2024\"\n",
      "MIB-T2::tModelName.0 = STRING: Tesla Model S 2024\n",
      "MIB-T2::tMaxSpeed.0 = INTEGER: 267\n",
      "MIB-T2::tInterLigths.0 = INTEGER: off(2)\n"
     ]
    },
    {
     "name": "stdout",
     "output_type": "stream",
     "text": [
      "MIB-T2::tACTemp.0 = INTEGER: 25\n"
     ]
    }
   ],
   "source": [
    "%%bash\n",
    "\n",
    "snmpget -v2c -c public localhost .1.3.6.1.3.1234.1.1.0\n",
    "snmpget -v2c -c public -M +. -m +MIB-T2 localhost .1.3.6.1.3.1234.1.1.0\n",
    "snmpget -v2c -c public -M +. -m +MIB-T2 localhost tMaxSpeed.0\n",
    "snmpget -v2c -c public -M +. -m +MIB-T2 localhost tInterLigths.0\n",
    "snmpget -v2c -c private -M +. -m +MIB-T2 localhost tACTemp.0\n"
   ]
  },
  {
   "cell_type": "code",
   "execution_count": 26,
   "metadata": {},
   "outputs": [
    {
     "name": "stdout",
     "output_type": "stream",
     "text": [
      "MIB-T2::tInterLigths.0 = INTEGER: on(1)\n",
      "MIB-T2::tInterLigths.0 = INTEGER: off(2)\n"
     ]
    },
    {
     "name": "stdout",
     "output_type": "stream",
     "text": [
      "MIB-T2::tACTemp.0 = INTEGER: 25\n",
      "MIB-T2::tACTemp.0 = INTEGER: 25\n"
     ]
    }
   ],
   "source": [
    "%%bash\n",
    "\n",
    "snmpset -v2c -c private -M +. -m +MIB-T2 localhost tInterLigths.0 i 1\n",
    "snmpget -v2c -c public -M +. -m +MIB-T2 localhost tInterLigths.0\n",
    "\n",
    "snmpset -v2c -c private -M +. -m +MIB-T2 localhost tACTemp.0 i 25\n",
    "snmpget -v2c -c private -M +. -m +MIB-T2 localhost tACTemp.0"
   ]
  },
  {
   "cell_type": "code",
   "execution_count": 45,
   "metadata": {},
   "outputs": [
    {
     "name": "stdout",
     "output_type": "stream",
     "text": [
      "MIB-T2::tModelName.0 = STRING: Tesla Model S 2024\n",
      "MIB-T2::tDoorIndex.rear-left = INTEGER: rear-left(4)\n",
      "MIB-T2::tManDate.0 = STRING: 2024-02-29 14:30:58\n",
      "MIB-T2::tDoorIndex.rear-left = INTEGER: rear-left(4)\n",
      "MIB-T2::tDoorStatus.front-right = INTEGER: open(1)\n"
     ]
    }
   ],
   "source": [
    "%%bash\n",
    "\n",
    "snmpgetnext -v2c -c private -M +. -m +MIB-T2 localhost tModelName tDoorIndex.3\n",
    "snmpgetnext -v2c -c private -M +. -m +MIB-T2 localhost tModelName.0\n",
    "snmpgetnext -v2c -c private -M +. -m +MIB-T2 localhost tDoorIndex.3\n",
    "snmpgetnext -v2c -c private -M +. -m +MIB-T2 localhost tDoorIndex.4"
   ]
  }
 ],
 "metadata": {
  "kernelspec": {
   "display_name": "Python 3",
   "language": "python",
   "name": "python3"
  },
  "language_info": {
   "codemirror_mode": {
    "name": "ipython",
    "version": 3
   },
   "file_extension": ".py",
   "mimetype": "text/x-python",
   "name": "python",
   "nbconvert_exporter": "python",
   "pygments_lexer": "ipython3",
   "version": "3.10.13"
  }
 },
 "nbformat": 4,
 "nbformat_minor": 2
}
