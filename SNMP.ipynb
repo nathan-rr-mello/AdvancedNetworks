{
 "cells": [
  {
   "cell_type": "markdown",
   "metadata": {},
   "source": [
    "# SNMP - Simple Network Management Protocol\n",
    "\n",
    "## Install snmpd tools, agent and mibs"
   ]
  },
  {
   "cell_type": "code",
   "execution_count": 1,
   "metadata": {},
   "outputs": [
    {
     "name": "stderr",
     "output_type": "stream",
     "text": [
      "\n",
      "WARNING: apt does not have a stable CLI interface. Use with caution in scripts.\n",
      "\n"
     ]
    },
    {
     "name": "stdout",
     "output_type": "stream",
     "text": [
      "Hit:1 http://archive.ubuntu.com/ubuntu focal InRelease\n",
      "Get:2 http://archive.ubuntu.com/ubuntu focal-updates InRelease [128 kB]\n",
      "Hit:3 https://packages.microsoft.com/repos/microsoft-ubuntu-focal-prod focal InRelease\n",
      "Hit:4 https://dl.yarnpkg.com/debian stable InRelease\n",
      "Hit:5 http://archive.ubuntu.com/ubuntu focal-backports InRelease\n",
      "Hit:6 https://repo.anaconda.com/pkgs/misc/debrepo/conda stable InRelease\n",
      "Hit:7 http://security.ubuntu.com/ubuntu focal-security InRelease\n",
      "Hit:8 https://packagecloud.io/github/git-lfs/ubuntu focal InRelease\n",
      "Fetched 128 kB in 1s (96.0 kB/s)\n",
      "Reading package lists...\n",
      "Building dependency tree...\n",
      "Reading state information...\n",
      "32 packages can be upgraded. Run 'apt list --upgradable' to see them.\n"
     ]
    },
    {
     "name": "stderr",
     "output_type": "stream",
     "text": [
      "\n",
      "WARNING: apt does not have a stable CLI interface. Use with caution in scripts.\n",
      "\n"
     ]
    },
    {
     "name": "stdout",
     "output_type": "stream",
     "text": [
      "Reading package lists...\n",
      "Building dependency tree...\n",
      "Reading state information...\n",
      "The following additional packages will be installed:\n",
      "  libpci3 libsensors-config libsensors5 libsnmp-base libsnmp35 pci.ids\n",
      "  smistrip\n",
      "Suggested packages:\n",
      "  lm-sensors snmptrapd\n",
      "The following NEW packages will be installed:\n",
      "  libpci3 libsensors-config libsensors5 libsnmp-base libsnmp35 pci.ids\n",
      "  smistrip snmp snmp-mibs-downloader snmpd\n",
      "0 upgraded, 10 newly installed, 0 to remove and 32 not upgraded.\n",
      "Need to get 6854 kB of archives.\n",
      "After this operation, 12.1 MB of additional disk space will be used.\n",
      "Get:1 http://archive.ubuntu.com/ubuntu focal/main amd64 pci.ids all 0.0~2020.03.20-1 [217 kB]\n",
      "Get:2 http://archive.ubuntu.com/ubuntu focal-updates/main amd64 libpci3 amd64 1:3.6.4-1ubuntu0.20.04.1 [26.9 kB]\n",
      "Get:3 http://archive.ubuntu.com/ubuntu focal-updates/main amd64 libsensors-config all 1:3.6.0-2ubuntu1.1 [6052 B]\n",
      "Get:4 http://archive.ubuntu.com/ubuntu focal-updates/main amd64 libsensors5 amd64 1:3.6.0-2ubuntu1.1 [27.2 kB]\n",
      "Get:5 http://archive.ubuntu.com/ubuntu focal-updates/main amd64 libsnmp-base all 5.8+dfsg-2ubuntu2.9 [205 kB]\n",
      "Get:6 http://archive.ubuntu.com/ubuntu focal-updates/main amd64 libsnmp35 amd64 5.8+dfsg-2ubuntu2.9 [978 kB]\n",
      "Get:7 http://archive.ubuntu.com/ubuntu focal-updates/main amd64 snmpd amd64 5.8+dfsg-2ubuntu2.9 [56.4 kB]\n",
      "Get:8 http://archive.ubuntu.com/ubuntu focal/universe amd64 smistrip all 0.4.8+dfsg2-16 [7904 B]\n",
      "Get:9 http://archive.ubuntu.com/ubuntu focal-updates/main amd64 snmp amd64 5.8+dfsg-2ubuntu2.9 [167 kB]\n",
      "Get:10 http://archive.ubuntu.com/ubuntu focal/multiverse amd64 snmp-mibs-downloader all 1.2 [5162 kB]\n"
     ]
    },
    {
     "name": "stderr",
     "output_type": "stream",
     "text": [
      "dpkg-preconfigure: unable to re-open stdin: No such file or directory\n"
     ]
    },
    {
     "name": "stdout",
     "output_type": "stream",
     "text": [
      "Fetched 6854 kB in 0s (27.9 MB/s)\n",
      "Selecting previously unselected package pci.ids.\n",
      "(Reading database ... 70090 files and directories currently installed.)\n",
      "Preparing to unpack .../0-pci.ids_0.0~2020.03.20-1_all.deb ...\n",
      "Unpacking pci.ids (0.0~2020.03.20-1) ...\n",
      "Selecting previously unselected package libpci3:amd64.\n",
      "Preparing to unpack .../1-libpci3_1%3a3.6.4-1ubuntu0.20.04.1_amd64.deb ...\n",
      "Unpacking libpci3:amd64 (1:3.6.4-1ubuntu0.20.04.1) ...\n",
      "Selecting previously unselected package libsensors-config.\n",
      "Preparing to unpack .../2-libsensors-config_1%3a3.6.0-2ubuntu1.1_all.deb ...\n",
      "Unpacking libsensors-config (1:3.6.0-2ubuntu1.1) ...\n",
      "Selecting previously unselected package libsensors5:amd64.\n",
      "Preparing to unpack .../3-libsensors5_1%3a3.6.0-2ubuntu1.1_amd64.deb ...\n",
      "Unpacking libsensors5:amd64 (1:3.6.0-2ubuntu1.1) ...\n",
      "Selecting previously unselected package libsnmp-base.\n",
      "Preparing to unpack .../4-libsnmp-base_5.8+dfsg-2ubuntu2.9_all.deb ...\n",
      "Unpacking libsnmp-base (5.8+dfsg-2ubuntu2.9) ...\n",
      "Selecting previously unselected package libsnmp35:amd64.\n",
      "Preparing to unpack .../5-libsnmp35_5.8+dfsg-2ubuntu2.9_amd64.deb ...\n",
      "Unpacking libsnmp35:amd64 (5.8+dfsg-2ubuntu2.9) ...\n",
      "Selecting previously unselected package snmpd.\n",
      "Preparing to unpack .../6-snmpd_5.8+dfsg-2ubuntu2.9_amd64.deb ...\n",
      "Unpacking snmpd (5.8+dfsg-2ubuntu2.9) ...\n",
      "Selecting previously unselected package smistrip.\n",
      "Preparing to unpack .../7-smistrip_0.4.8+dfsg2-16_all.deb ...\n",
      "Unpacking smistrip (0.4.8+dfsg2-16) ...\n",
      "Selecting previously unselected package snmp.\n",
      "Preparing to unpack .../8-snmp_5.8+dfsg-2ubuntu2.9_amd64.deb ...\n",
      "Unpacking snmp (5.8+dfsg-2ubuntu2.9) ...\n",
      "Selecting previously unselected package snmp-mibs-downloader.\n",
      "Preparing to unpack .../9-snmp-mibs-downloader_1.2_all.deb ...\n",
      "Unpacking snmp-mibs-downloader (1.2) ...\n",
      "Setting up pci.ids (0.0~2020.03.20-1) ...\n",
      "Setting up libsnmp-base (5.8+dfsg-2ubuntu2.9) ...\n",
      "Setting up libsensors-config (1:3.6.0-2ubuntu1.1) ...\n",
      "Setting up smistrip (0.4.8+dfsg2-16) ...\n",
      "Setting up snmp-mibs-downloader (1.2) ...\n",
      "\n",
      "Downloading documents and extracting MIB files.\n",
      "This will take some minutes.\n",
      "\n",
      "In case this process fails, it can always be repeated later by executing\n",
      "/usr/bin/download-mibs again.\n",
      "\n",
      "RFC1155-SMI: 119 lines.\n",
      "RFC1213-MIB: 2613 lines.\n",
      "NOTE: SMUX: ignored.\n",
      "SMUX-MIB: 158 lines.\n",
      "CLNS-MIB: 1294 lines.\n",
      "RFC1381-MIB: 1007 lines.\n",
      "RFC1382-MIB: 2627 lines.\n",
      "RFC1414-MIB: 131 lines.\n",
      "SNMPv2-PARTY-MIB: 1410 lines.\n",
      "SNMPv2-M2M-MIB: 807 lines.\n",
      "MIOX25-MIB: 708 lines.\n",
      "PPP-LCP-MIB: 764 lines.\n",
      "PPP-SEC-MIB: 289 lines.\n",
      "PPP-IP-NCP-MIB: 203 lines.\n",
      "PPP-BRIDGE-NCP-MIB: 429 lines.\n",
      "FDDI-SMT73-MIB: 2126 lines.\n",
      "TOKEN-RING-RMON-MIB: 2302 lines.\n",
      "SOURCE-ROUTING-MIB: 450 lines.\n",
      "DECNET-PHIV-MIB: 3030 lines.\n",
      "DSA-MIB: 642 lines.\n",
      "DPI20-MIB: 47 lines.\n",
      "IBM-6611-APPN-MIB: 5112 lines.\n",
      "DNS-SERVER-MIB: 1078 lines.\n",
      "DNS-RESOLVER-MIB: 1196 lines.\n",
      "UPS-MIB: 1899 lines.\n",
      "CHARACTER-MIB: 646 lines.\n",
      "RS-232-MIB: 788 lines.\n",
      "PARALLEL-MIB: 286 lines.\n",
      "SNA-NAU-MIB: 2765 lines.\n",
      "SIP-MIB: 1099 lines.\n",
      "Modem-MIB: 1340 lines.\n",
      "RDBMS-MIB: 1377 lines.\n",
      "RIPv2-MIB: 532 lines.\n",
      "APPLETALK-MIB: 3398 lines.\n",
      "SNA-SDLC-MIB: 2761 lines.\n",
      "TOKENRING-MIB: 836 lines.\n",
      "TOKENRING-STATION-SR-MIB: 175 lines.\n",
      "TCPIPX-MIB: 331 lines.\n",
      "SNMPv2-USEC-MIB: 238 lines.\n",
      "MIP-MIB: 2127 lines.\n",
      "DOT12-IF-MIB: 772 lines.\n",
      "DLSW-MIB: 3560 lines.\n",
      "APPC-MIB: 5104 lines.\n",
      "SNMP-REPEATER-MIB: 3265 lines.\n",
      "FRAME-RELAY-DTE-MIB: 992 lines.\n",
      "ISDN-MIB: 1260 lines.\n",
      "DIAL-CONTROL-MIB: 1270 lines.\n",
      "RSVP-MIB: 2660 lines.\n",
      "INTEGRATED-SERVICES-MIB: 750 lines.\n",
      "INTEGRATED-SERVICES-GUARANTEED-MIB: 218 lines.\n",
      "APPN-DLUR-MIB: 632 lines.\n",
      "HPR-MIB: 1270 lines.\n",
      "DOT12-RPTR-MIB: 1978 lines.\n",
      "SYSAPPL-MIB: 1539 lines.\n",
      "IPOA-MIB: 1654 lines.\n",
      "IPATM-IPMC-MIB: 3244 lines.\n",
      "IPV6-TCP-MIB: 211 lines.\n",
      "IPV6-UDP-MIB: 141 lines.\n",
      "APPN-MIB: 5611 lines.\n",
      "APPN-TRAP-MIB: 477 lines.\n",
      "EBN-MIB: 702 lines.\n",
      "IPV6-TC: 67 lines.\n",
      "IPV6-MIB: 1443 lines.\n",
      "IPV6-ICMP-MIB: 529 lines.\n",
      "DS0-MIB: 305 lines.\n",
      "DS0BUNDLE-MIB: 311 lines.\n",
      "ATM-ACCOUNTING-INFORMATION-MIB: 402 lines.\n",
      "ACCOUNTING-CONTROL-MIB: 768 lines.\n",
      "ATM-TC-MIB: 713 lines.\n",
      "ATM-MIB: 2995 lines.\n",
      "TN3270E-MIB: 1953 lines.\n",
      "TN3270E-RT-MIB: 896 lines.\n",
      "APPLICATION-MIB: 2995 lines.\n",
      "SNMPv2-SMI: 344 lines.\n",
      "NOTE: FIZBIN-MIB: ignored.\n",
      "SNMPv2-TC: 772 lines.\n",
      "SNMPv2-CONF: 322 lines.\n",
      "HPR-IP-MIB: 487 lines.\n",
      "WWW-MIB: 1272 lines.\n",
      "DIRECTORY-SERVER-MIB: 772 lines.\n",
      "SMON-MIB: 1254 lines.\n",
      "ADSL-TC-MIB: 113 lines.\n",
      "ADSL-LINE-MIB: 4328 lines.\n",
      "ETHER-CHIPSET-MIB: 532 lines.\n",
      "NHRP-MIB: 2596 lines.\n",
      "Job-Monitoring-MIB: 1652 lines.\n",
      "FLOW-METER-MIB: 1901 lines.\n",
      "AGENTX-MIB: 527 lines.\n",
      "SLAPM-MIB: 2842 lines.\n",
      "SNMP-USM-DH-OBJECTS-MIB: 532 lines.\n",
      "VRRP-MIB: 789 lines.\n",
      "NETWORK-SERVICES-MIB: 626 lines.\n",
      "MTA-MIB: 1226 lines.\n",
      "HOST-RESOURCES-MIB: 1540 lines.\n",
      "HOST-RESOURCES-TYPES: 389 lines.\n",
      "RMON-MIB: 3980 lines.\n",
      "FIBRE-CHANNEL-FE-MIB: 1781 lines.\n",
      "HCNUM-TC: 118 lines.\n",
      "IF-MIB: 1814 lines.\n",
      "IF-INVERTED-STACK-MIB: 149 lines.\n",
      "PTOPO-MIB: 804 lines.\n",
      "IPMROUTE-STD-MIB: 869 lines.\n",
      "IGMP-STD-MIB: 516 lines.\n",
      "PIM-MIB: 889 lines.\n",
      "COPS-CLIENT-MIB: 844 lines.\n",
      "FRNETSERV-MIB: 2479 lines.\n",
      "FR-ATM-PVC-SERVICE-IWF-MIB: 1066 lines.\n",
      "RTP-MIB: 981 lines.\n",
      "DISMAN-EVENT-MIB: 1882 lines.\n",
      "DISMAN-EXPRESSION-MIB: 1182 lines.\n",
      "NOTIFICATION-LOG-MIB: 753 lines.\n",
      "IPV6-MLD-MIB: 417 lines.\n",
      "FR-MFR-MIB: 888 lines.\n",
      "PINT-MIB: 573 lines.\n",
      "DOCS-BPI-MIB: 1569 lines.\n",
      "INTERFACETOPN-MIB: 1023 lines.\n",
      "DISMAN-SCRIPT-MIB: 1764 lines.\n",
      "SFLOW-MIB: 389 lines.\n",
      "CIRCUIT-IF-MIB: 369 lines.\n",
      "FRSLD-MIB: 1768 lines.\n",
      "DISMAN-SCHEDULE-MIB: 699 lines.\n",
      "HC-RMON-MIB: 3149 lines.\n",
      "DSMON-MIB: 4449 lines.\n",
      "DIFFSERV-DSCP-TC: 64 lines.\n",
      "DIFFSERV-MIB: 3514 lines.\n",
      "GSMP-MIB: 1582 lines.\n",
      "L2TP-MIB: 2664 lines.\n",
      "SNMP-FRAMEWORK-MIB: 526 lines.\n",
      "SNMP-MPD-MIB: 145 lines.\n",
      "NOTE: : ignored.\n",
      "SNMP-TARGET-MIB: 660 lines.\n",
      "SNMP-NOTIFICATION-MIB: 589 lines.\n",
      "SNMP-PROXY-MIB: 294 lines.\n",
      "NOTE: : ignored.\n",
      "SNMP-USER-BASED-SM-MIB: 912 lines.\n",
      "SNMP-VIEW-BASED-ACM-MIB: 830 lines.\n",
      "SNMPv2-PDU: 133 lines.\n",
      "SNMPv2-TM: 176 lines.\n",
      "SNMPv2-MIB: 854 lines.\n",
      "TRANSPORT-ADDRESS-MIB: 421 lines.\n",
      "ENTITY-SENSOR-MIB: 440 lines.\n",
      "HC-ALARM-MIB: 707 lines.\n",
      "ADSL-LINE-EXT-MIB: 1169 lines.\n",
      "APS-MIB: 1659 lines.\n",
      "MALLOC-MIB: 1364 lines.\n",
      "SNMP-COMMUNITY-MIB: 505 lines.\n",
      "OPT-IF-MIB: 6616 lines.\n",
      "SONET-MIB: 2360 lines.\n",
      "PerfHist-TC-MIB: 178 lines.\n",
      "IPV6-FLOW-LABEL-MIB: 58 lines.\n",
      "ATM2-MIB: 3220 lines.\n",
      "POWER-ETHERNET-MIB: 621 lines.\n",
      "EtherLike-MIB: 1862 lines.\n",
      "HC-PerfHist-TC-MIB: 222 lines.\n",
      "VDSL-LINE-MIB: 2844 lines.\n",
      "APM-MIB: 2127 lines.\n",
      "DIFFSERV-CONFIG-MIB: 243 lines.\n",
      "NOTE: IANA-PRINTER-MIB: ignored.\n",
      "Printer-MIB: 4389 lines.\n",
      "NOTE: IANA-FINISHER-MIB: ignored.\n",
      "Finisher-MIB: 869 lines.\n",
      "MPLS-TC-STD-MIB: 635 lines.\n",
      "MPLS-TE-STD-MIB: 2483 lines.\n",
      "MPLS-LSR-STD-MIB: 2106 lines.\n",
      "MPLS-FTN-STD-MIB: 1030 lines.\n",
      "MPLS-LDP-STD-MIB: 2408 lines.\n",
      "MPLS-LDP-ATM-STD-MIB: 757 lines.\n",
      "MPLS-LDP-FRAME-RELAY-STD-MIB: 641 lines.\n",
      "MPLS-LDP-GENERIC-STD-MIB: 321 lines.\n",
      "ROHC-MIB: 1133 lines.\n",
      "ROHC-UNCOMPRESSED-MIB: 197 lines.\n",
      "ROHC-RTP-MIB: 636 lines.\n",
      "SNMP-USM-AES-MIB: 62 lines.\n",
      "TRIP-TC-MIB: 132 lines.\n",
      "TRIP-MIB: 2007 lines.\n",
      "SCTP-MIB: 1342 lines.\n",
      "ALARM-MIB: 1127 lines.\n",
      "NOTE: IANA-ITU-ALARM-TC-MIB: ignored.\n",
      "ITU-ALARM-TC-MIB: 86 lines.\n",
      "ITU-ALARM-MIB: 486 lines.\n",
      "ARC-MIB: 396 lines.\n",
      "DS3-MIB: 1786 lines.\n",
      "TE-MIB: 1679 lines.\n",
      "INET-ADDRESS-MIB: 402 lines.\n",
      "NAT-MIB: 2391 lines.\n",
      "POLICY-BASED-MANAGEMENT-MIB: 2060 lines.\n",
      "TCP-MIB: 785 lines.\n",
      "DOCS-IETF-SUBMGT-MIB: 672 lines.\n",
      "FC-MGMT-MIB: 2205 lines.\n",
      "VDSL-LINE-EXT-SCM-MIB: 420 lines.\n",
      "VDSL-LINE-EXT-MCM-MIB: 662 lines.\n",
      "TUNNEL-MIB: 738 lines.\n",
      "UDP-MIB: 549 lines.\n",
      "DOCS-IETF-BPI2-MIB: 3451 lines.\n",
      "ENTITY-MIB: 1411 lines.\n",
      "SSPM-MIB: 1029 lines.\n",
      "TPM-MIB: 1916 lines.\n",
      "BRIDGE-MIB: 1472 lines.\n",
      "TE-LINK-STD-MIB: 1745 lines.\n",
      "VPN-TC-STD-MIB: 72 lines.\n",
      "ENTITY-STATE-TC-MIB: 169 lines.\n",
      "ENTITY-STATE-MIB: 332 lines.\n",
      "BGP4-MIB: 1232 lines.\n",
      "IP-FORWARD-MIB: 1277 lines.\n",
      "IP-MIB: 4993 lines.\n",
      "MOBILEIPV6-MIB: 3984 lines.\n",
      "RSTP-MIB: 306 lines.\n",
      "HDSL2-SHDSL-LINE-MIB: 2503 lines.\n",
      "DOCS-IETF-QOS-MIB: 3060 lines.\n",
      "P-BRIDGE-MIB: 1157 lines.\n",
      "Q-BRIDGE-MIB: 2367 lines.\n",
      "MPLS-LC-ATM-STD-MIB: 336 lines.\n",
      "MPLS-LC-FR-STD-MIB: 263 lines.\n",
      "IFCP-MGMT-MIB: 1015 lines.\n",
      "MPLS-L3VPN-STD-MIB: 1588 lines.\n",
      "FCIP-MGMT-MIB: 1037 lines.\n",
      "T11-FC-NAME-SERVER-MIB: 1136 lines.\n",
      "T11-TC-MIB: 67 lines.\n",
      "T11-FC-FABRIC-ADDR-MGR-MIB: 1241 lines.\n",
      "ISIS-MIB: 4317 lines.\n",
      "SCSI-MIB: 2758 lines.\n",
      "AGGREGATE-MIB: 477 lines.\n",
      "TIME-AGGREGATE-MIB: 375 lines.\n",
      "RMON2-MIB: 5711 lines.\n",
      "ISCSI-MIB: 3097 lines.\n",
      "IPS-AUTH-MIB: 1156 lines.\n",
      "DOCS-IF-MIB: 5291 lines.\n",
      "DOCS-IETF-CABLE-DEVICE-NOTIFICATION-MIB: 1453 lines.\n",
      "DISMAN-PING-MIB: 1561 lines.\n",
      "DISMAN-TRACEROUTE-MIB: 1850 lines.\n",
      "DISMAN-NSLOOKUP-MIB: 509 lines.\n",
      "MSDP-MIB: 1182 lines.\n",
      "T11-FC-ROUTE-MIB: 448 lines.\n",
      "T11-FC-FSPF-MIB: 1170 lines.\n",
      "LMP-MIB: 3185 lines.\n",
      "DOCS-CABLE-DEVICE-MIB: 3141 lines.\n",
      "RADIUS-AUTH-CLIENT-MIB: 710 lines.\n",
      "RADIUS-AUTH-SERVER-MIB: 774 lines.\n",
      "RADIUS-ACC-CLIENT-MIB: 638 lines.\n",
      "RADIUS-ACC-SERVER-MIB: 727 lines.\n",
      "RADIUS-DYNAUTH-CLIENT-MIB: 767 lines.\n",
      "RADIUS-DYNAUTH-SERVER-MIB: 699 lines.\n",
      "PKTC-IETF-MTA-MIB: 2081 lines.\n",
      "ADSL2-LINE-TC-MIB: 729 lines.\n",
      "ADSL2-LINE-MIB: 5476 lines.\n",
      "RAQMON-MIB: 1417 lines.\n",
      "RAQMON-RDS-MIB: 672 lines.\n",
      "T11-FC-VIRTUAL-FABRIC-MIB: 523 lines.\n",
      "OSPF-MIB: 4164 lines.\n",
      "OSPF-TRAP-MIB: 584 lines.\n",
      "SIP-TC-MIB: 177 lines.\n",
      "SIP-COMMON-MIB: 1913 lines.\n",
      "SIP-UA-MIB: 200 lines.\n",
      "SIP-SERVER-MIB: 869 lines.\n",
      "SNMP-IEEE802-TM-MIB: 40 lines.\n",
      "GMPLS-TC-STD-MIB: 124 lines.\n",
      "GMPLS-TE-STD-MIB: 1749 lines.\n",
      "NOTE: IANA-GMPLS-TC-MIB: ignored.\n",
      "GMPLS-LSR-STD-MIB: 503 lines.\n",
      "GMPLS-LABEL-STD-MIB: 689 lines.\n",
      "DS1-MIB: 3015 lines.\n",
      "IPSEC-SPD-MIB: 2682 lines.\n",
      "MAU-MIB: 1740 lines.\n",
      "NOTE: IANA-MAU-MIB: ignored.\n",
      "DOT3-EPON-MIB: 2532 lines.\n",
      "DOT3-OAM-MIB: 2115 lines.\n",
      "TCP-ESTATS-MIB: 2941 lines.\n",
      "T11-FC-FABRIC-CONFIG-SERVER-MIB: 1717 lines.\n",
      "T11-FC-FABRIC-LOCK-MIB: 490 lines.\n",
      "T11-FC-ZONE-SERVER-MIB: 2638 lines.\n",
      "ISNS-MIB: 3243 lines.\n",
      "T11-FC-RSCN-MIB: 751 lines.\n",
      "URI-TC-MIB: 133 lines.\n",
      "PIM-STD-MIB: 3746 lines.\n",
      "IF-CAP-STACK-MIB: 284 lines.\n",
      "EFM-CU-MIB: 2995 lines.\n",
      "UDPLITE-MIB: 513 lines.\n",
      "PKTC-IETF-SIG-MIB: 3021 lines.\n",
      "LANGTAG-TC-MIB: 56 lines.\n",
      "IPMCAST-MIB: 2391 lines.\n",
      "MIDCOM-MIB: 2260 lines.\n",
      "PIM-BSR-MIB: 699 lines.\n",
      "T11-FC-SP-TC-MIB: 637 lines.\n",
      "T11-FC-SP-AUTHENTICATION-MIB: 920 lines.\n",
      "T11-FC-SP-ZONING-MIB: 550 lines.\n",
      "T11-FC-SP-POLICY-MIB: 4274 lines.\n",
      "T11-FC-SP-SA-MIB: 2483 lines.\n",
      "SYSLOG-TC-MIB: 202 lines.\n",
      "PKTC-IETF-EVENT-MIB: 1163 lines.\n",
      "NEMO-MIB: 1739 lines.\n",
      "MGMD-STD-MIB: 1524 lines.\n",
      "RSERPOOL-MIB: 1439 lines.\n",
      "PW-TC-STD-MIB: 288 lines.\n",
      "SNMP-TSM-MIB: 234 lines.\n",
      "SNMP-SSH-TM-MIB: 329 lines.\n",
      "NOTE: IANA-PWE3-MIB: ignored.\n",
      "PW-STD-MIB: 2438 lines.\n",
      "PW-MPLS-STD-MIB: 914 lines.\n",
      "PW-ENET-STD-MIB: 491 lines.\n",
      "PW-TDM-MIB: 1336 lines.\n",
      "PW-ATM-MIB: 1205 lines.\n",
      "OSPFV3-MIB: 3951 lines.\n",
      "VDSL2-LINE-TC-MIB: 1479 lines.\n",
      "VDSL2-LINE-MIB: 7189 lines.\n",
      "SYSLOG-MSG-MIB: 598 lines.\n",
      "DVB-RCS-MIB: 3329 lines.\n",
      "FORCES-MIB: 391 lines.\n",
      "IPFIX-MIB: 1677 lines.\n",
      "NOTE: IPFIX-SELECTOR-MIB: ignored.\n",
      "CAPWAP-BASE-MIB: 2618 lines.\n",
      "CAPWAP-DOT11-MIB: 369 lines.\n",
      "patching file ADSL-LINE-MIB\n",
      "patching file DLSW-MIB\n",
      "patching file DSA-MIB\n",
      "patching file FDDI-SMT73-MIB\n",
      "patching file HPR-MIB\n",
      "patching file MIP-MIB\n",
      "patching file Modem-MIB\n",
      "patching file PPP-LCP-MIB\n",
      "patching file RDBMS-MIB\n",
      "patching file RFC1414-MIB\n",
      "patching file SNA-NAU-MIB\n",
      "patching file TCPIPX-MIB\n",
      "patching file UPS-MIB\n",
      "patching file SMUX-MIB\n",
      "patching file IPATM-IPMC-MIB\n",
      "IANA-PWE3-MIB: 137 lines.\n",
      "NOTE: PW-STD-MIB: ignored.\n",
      "NOTE: IPFIX-MIB: ignored.\n",
      "IPFIX-SELECTOR-MIB: 173 lines.\n",
      "IANAifType-MIB: 685 lines.\n",
      "IANA-LANGUAGE-MIB: 126 lines.\n",
      "IANA-ADDRESS-FAMILY-NUMBERS-MIB: 170 lines.\n",
      "IANA-RTPROTO-MIB: 102 lines.\n",
      "IANATn3270eTC-MIB: 303 lines.\n",
      "IANA-MALLOC-MIB: 69 lines.\n",
      "IANA-CHARSET-MIB: 361 lines.\n",
      "IANA-PRINTER-MIB: 2111 lines.\n",
      "IANA-FINISHER-MIB: 286 lines.\n",
      "IANA-ITU-ALARM-TC-MIB: 335 lines.\n",
      "IANA-GMPLS-TC-MIB: 359 lines.\n",
      "IANA-IPPM-METRICS-REGISTRY-MIB: 818 lines.\n",
      "IANA-MAU-MIB: 984 lines.\n",
      "Setting up libsensors5:amd64 (1:3.6.0-2ubuntu1.1) ...\n",
      "Setting up libpci3:amd64 (1:3.6.4-1ubuntu0.20.04.1) ...\n",
      "Setting up libsnmp35:amd64 (5.8+dfsg-2ubuntu2.9) ...\n",
      "Setting up snmp (5.8+dfsg-2ubuntu2.9) ...\n",
      "Setting up snmpd (5.8+dfsg-2ubuntu2.9) ...\n",
      "adduser: Warning: The home directory `/var/lib/snmp' does not belong to the user you are currently creating.\n",
      "invoke-rc.d: could not determine current runlevel\n",
      "invoke-rc.d: policy-rc.d denied execution of start.\n",
      "Created symlink /etc/systemd/system/multi-user.target.wants/snmpd.service → /lib/systemd/system/snmpd.service.\n",
      "Processing triggers for libc-bin (2.31-0ubuntu9.16) ...\n",
      "Processing triggers for systemd (245.4-4ubuntu3.23) ...\n",
      "Processing triggers for man-db (2.9.1-1) ...\n"
     ]
    }
   ],
   "source": [
    "%%bash\n",
    "\n",
    "# Install SNMP - Linux\n",
    "sudo apt update\n",
    "sudo apt install -y snmp snmpd snmp-mibs-downloader"
   ]
  },
  {
   "cell_type": "markdown",
   "metadata": {},
   "source": [
    "## Configure agent configuration file (/etc/snmp/snmpd.conf) and snmp tools configuration file (/etc/snmp/snmp.conf)"
   ]
  },
  {
   "cell_type": "code",
   "execution_count": 2,
   "metadata": {},
   "outputs": [],
   "source": [
    "%%bash\n",
    "\n",
    "sudo mv /etc/snmp/snmpd.conf /etc/snmp/snmpd.conf.old\n",
    "\n",
    "sudo tee /etc/snmp/snmpd.conf > /dev/null <<EOF\n",
    "rocommunity public\n",
    "rwcommunity private\n",
    "EOF\n",
    "\n",
    "sudo sed -i '/mibs :/s/^/#/' /etc/snmp/snmp.conf"
   ]
  },
  {
   "cell_type": "markdown",
   "metadata": {},
   "source": [
    "## Start snmpd daemon (agent)"
   ]
  },
  {
   "cell_type": "code",
   "execution_count": 3,
   "metadata": {},
   "outputs": [
    {
     "name": "stdout",
     "output_type": "stream",
     "text": [
      " * snmpd is running\n"
     ]
    }
   ],
   "source": [
    "%%bash\n",
    "\n",
    "sudo service snmpd restart\n",
    "sudo service snmpd status\n",
    "\n",
    "# Mac\n",
    "# sudo launchctl unload /System/Library/LaunchDaemons/org.net-snmp.snmpd.plist\n",
    "# sudo launchctl load -w /System/Library/LaunchDaemons/org.net-snmp.snmpd.plist"
   ]
  },
  {
   "cell_type": "markdown",
   "metadata": {},
   "source": [
    "## List all downloaded mibs"
   ]
  },
  {
   "cell_type": "code",
   "execution_count": 4,
   "metadata": {},
   "outputs": [
    {
     "name": "stdout",
     "output_type": "stream",
     "text": [
      "/usr/share/snmp/mibs:\n",
      "GNOME-SMI.txt\n",
      "LM-SENSORS-MIB.txt\n",
      "NET-SNMP-AGENT-MIB.txt\n",
      "NET-SNMP-EXAMPLES-MIB.txt\n",
      "NET-SNMP-EXTEND-MIB.txt\n",
      "NET-SNMP-MIB.txt\n",
      "NET-SNMP-MONITOR-MIB.txt\n",
      "NET-SNMP-PASS-MIB.txt\n",
      "NET-SNMP-PERIODIC-NOTIFY-MIB.txt\n",
      "NET-SNMP-SYSTEM-MIB.txt\n",
      "NET-SNMP-TC.txt\n",
      "NET-SNMP-VACM-MIB.txt\n",
      "UCD-DEMO-MIB.txt\n",
      "UCD-DISKIO-MIB.txt\n",
      "UCD-DLMOD-MIB.txt\n",
      "UCD-IPFILTER-MIB.txt\n",
      "UCD-IPFWACC-MIB.txt\n",
      "UCD-SNMP-MIB-OLD.txt\n",
      "UCD-SNMP-MIB.txt\n",
      "iana\n",
      "ietf\n"
     ]
    }
   ],
   "source": [
    "%%bash\n",
    "\n",
    "ls -R /usr/share/snmp/mibs"
   ]
  },
  {
   "cell_type": "markdown",
   "metadata": {},
   "source": [
    "## Show RFC1213 object tree"
   ]
  },
  {
   "cell_type": "code",
   "execution_count": 5,
   "metadata": {},
   "outputs": [
    {
     "name": "stdout",
     "output_type": "stream",
     "text": [
      "+--iso(1)\n",
      "   |\n",
      "   +--org(3)\n",
      "      |\n",
      "      +--dod(6)\n",
      "         |\n",
      "         +--internet(1)\n",
      "            |\n",
      "            +--directory(1)\n",
      "            |\n",
      "            +--mgmt(2)\n",
      "            |  |\n",
      "            |  +--mib-2(1)\n",
      "            |     |\n",
      "            |     +--system(1)\n",
      "            |     |  |\n",
      "            |     |  +-- -R-- String    sysDescr(1)\n",
      "            |     |  |        Textual Convention: DisplayString\n",
      "            |     |  |        Size: 0..255\n",
      "            |     |  +-- -R-- ObjID     sysObjectID(2)\n",
      "            |     |  +-- -R-- TimeTicks sysUpTime(3)\n",
      "            |     |  +-- -RW- String    sysContact(4)\n",
      "            |     |  |        Textual Convention: DisplayString\n",
      "            |     |  |        Size: 0..255\n",
      "            |     |  +-- -RW- String    sysName(5)\n",
      "            |     |  |        Textual Convention: DisplayString\n",
      "            |     |  |        Size: 0..255\n",
      "            |     |  +-- -RW- String    sysLocation(6)\n",
      "            |     |  |        Textual Convention: DisplayString\n",
      "            |     |  |        Size: 0..255\n",
      "            |     |  +-- -R-- INTEGER   sysServices(7)\n",
      "            |     |           Range: 0..127\n",
      "            |     |\n",
      "            |     +--interfaces(2)\n",
      "            |     |  |\n",
      "            |     |  +-- -R-- INTEGER   ifNumber(1)\n",
      "            |     |  |\n",
      "            |     |  +--ifTable(2)\n",
      "            |     |     |\n",
      "            |     |     +--ifEntry(1)\n",
      "            |     |        |  Index: ifIndex\n",
      "            |     |        |\n",
      "            |     |        +-- -R-- INTEGER   ifIndex(1)\n",
      "            |     |        +-- -R-- String    ifDescr(2)\n",
      "            |     |        |        Textual Convention: DisplayString\n",
      "            |     |        |        Size: 0..255\n",
      "            |     |        +-- -R-- EnumVal   ifType(3)\n",
      "            |     |        |        Values: other(1), regular1822(2), hdh1822(3), ddn-x25(4), rfc877-x25(5), ethernet-csmacd(6), iso88023-csmacd(7), iso88024-tokenBus(8), iso88025-tokenRing(9), iso88026-man(10), starLan(11), proteon-10Mbit(12), proteon-80Mbit(13), hyperchannel(14), fddi(15), lapb(16), sdlc(17), ds1(18), e1(19), basicISDN(20), primaryISDN(21), propPointToPointSerial(22), ppp(23), softwareLoopback(24), eon(25), ethernet-3Mbit(26), nsip(27), slip(28), ultra(29), ds3(30), sip(31), frame-relay(32)\n",
      "            |     |        +-- -R-- INTEGER   ifMtu(4)\n",
      "            |     |        +-- -R-- Gauge     ifSpeed(5)\n",
      "            |     |        +-- -R-- String    ifPhysAddress(6)\n",
      "            |     |        |        Textual Convention: PhysAddress\n",
      "            |     |        +-- -RW- EnumVal   ifAdminStatus(7)\n",
      "            |     |        |        Values: up(1), down(2), testing(3)\n",
      "            |     |        +-- -R-- EnumVal   ifOperStatus(8)\n",
      "            |     |        |        Values: up(1), down(2), testing(3)\n",
      "            |     |        +-- -R-- TimeTicks ifLastChange(9)\n",
      "            |     |        +-- -R-- Counter   ifInOctets(10)\n",
      "            |     |        +-- -R-- Counter   ifInUcastPkts(11)\n",
      "            |     |        +-- -R-- Counter   ifInNUcastPkts(12)\n",
      "            |     |        +-- -R-- Counter   ifInDiscards(13)\n",
      "            |     |        +-- -R-- Counter   ifInErrors(14)\n",
      "            |     |        +-- -R-- Counter   ifInUnknownProtos(15)\n",
      "            |     |        +-- -R-- Counter   ifOutOctets(16)\n",
      "            |     |        +-- -R-- Counter   ifOutUcastPkts(17)\n",
      "            |     |        +-- -R-- Counter   ifOutNUcastPkts(18)\n",
      "            |     |        +-- -R-- Counter   ifOutDiscards(19)\n",
      "            |     |        +-- -R-- Counter   ifOutErrors(20)\n",
      "            |     |        +-- -R-- Gauge     ifOutQLen(21)\n",
      "            |     |        +-- -R-- ObjID     ifSpecific(22)\n",
      "            |     |\n",
      "            |     +--at(3)\n",
      "            |     |  |\n",
      "            |     |  +--atTable(1)\n",
      "            |     |     |\n",
      "            |     |     +--atEntry(1)\n",
      "            |     |        |  Index: atIfIndex, atNetAddress\n",
      "            |     |        |\n",
      "            |     |        +-- -RW- INTEGER   atIfIndex(1)\n",
      "            |     |        +-- -RW- String    atPhysAddress(2)\n",
      "            |     |        |        Textual Convention: PhysAddress\n",
      "            |     |        +-- -RW- NetAddr   atNetAddress(3)\n",
      "            |     |\n",
      "            |     +--ip(4)\n",
      "            |     |  |\n",
      "            |     |  +-- -RW- EnumVal   ipForwarding(1)\n",
      "            |     |  |        Values: forwarding(1), not-forwarding(2)\n",
      "            |     |  +-- -RW- INTEGER   ipDefaultTTL(2)\n",
      "            |     |  +-- -R-- Counter   ipInReceives(3)\n",
      "            |     |  +-- -R-- Counter   ipInHdrErrors(4)\n",
      "            |     |  +-- -R-- Counter   ipInAddrErrors(5)\n",
      "            |     |  +-- -R-- Counter   ipForwDatagrams(6)\n",
      "            |     |  +-- -R-- Counter   ipInUnknownProtos(7)\n",
      "            |     |  +-- -R-- Counter   ipInDiscards(8)\n",
      "            |     |  +-- -R-- Counter   ipInDelivers(9)\n",
      "            |     |  +-- -R-- Counter   ipOutRequests(10)\n",
      "            |     |  +-- -R-- Counter   ipOutDiscards(11)\n",
      "            |     |  +-- -R-- Counter   ipOutNoRoutes(12)\n",
      "            |     |  +-- -R-- INTEGER   ipReasmTimeout(13)\n",
      "            |     |  +-- -R-- Counter   ipReasmReqds(14)\n",
      "            |     |  +-- -R-- Counter   ipReasmOKs(15)\n",
      "            |     |  +-- -R-- Counter   ipReasmFails(16)\n",
      "            |     |  +-- -R-- Counter   ipFragOKs(17)\n",
      "            |     |  +-- -R-- Counter   ipFragFails(18)\n",
      "            |     |  +-- -R-- Counter   ipFragCreates(19)\n",
      "            |     |  |\n",
      "            |     |  +--ipAddrTable(20)\n",
      "            |     |  |  |\n",
      "            |     |  |  +--ipAddrEntry(1)\n",
      "            |     |  |     |  Index: ipAdEntAddr\n",
      "            |     |  |     |\n",
      "            |     |  |     +-- -R-- IpAddr    ipAdEntAddr(1)\n",
      "            |     |  |     +-- -R-- INTEGER   ipAdEntIfIndex(2)\n",
      "            |     |  |     +-- -R-- IpAddr    ipAdEntNetMask(3)\n",
      "            |     |  |     +-- -R-- INTEGER   ipAdEntBcastAddr(4)\n",
      "            |     |  |     +-- -R-- INTEGER   ipAdEntReasmMaxSize(5)\n",
      "            |     |  |              Range: 0..65535\n",
      "            |     |  |\n",
      "            |     |  +--ipRouteTable(21)\n",
      "            |     |  |  |\n",
      "            |     |  |  +--ipRouteEntry(1)\n",
      "            |     |  |     |  Index: ipRouteDest\n",
      "            |     |  |     |\n",
      "            |     |  |     +-- -RW- IpAddr    ipRouteDest(1)\n",
      "            |     |  |     +-- -RW- INTEGER   ipRouteIfIndex(2)\n",
      "            |     |  |     +-- -RW- INTEGER   ipRouteMetric1(3)\n",
      "            |     |  |     +-- -RW- INTEGER   ipRouteMetric2(4)\n",
      "            |     |  |     +-- -RW- INTEGER   ipRouteMetric3(5)\n",
      "            |     |  |     +-- -RW- INTEGER   ipRouteMetric4(6)\n",
      "            |     |  |     +-- -RW- IpAddr    ipRouteNextHop(7)\n",
      "            |     |  |     +-- -RW- EnumVal   ipRouteType(8)\n",
      "            |     |  |     |        Values: other(1), invalid(2), direct(3), indirect(4)\n",
      "            |     |  |     +-- -R-- EnumVal   ipRouteProto(9)\n",
      "            |     |  |     |        Values: other(1), local(2), netmgmt(3), icmp(4), egp(5), ggp(6), hello(7), rip(8), is-is(9), es-is(10), ciscoIgrp(11), bbnSpfIgp(12), ospf(13), bgp(14)\n",
      "            |     |  |     +-- -RW- INTEGER   ipRouteAge(10)\n",
      "            |     |  |     +-- -RW- IpAddr    ipRouteMask(11)\n",
      "            |     |  |     +-- -RW- INTEGER   ipRouteMetric5(12)\n",
      "            |     |  |     +-- -R-- ObjID     ipRouteInfo(13)\n",
      "            |     |  |\n",
      "            |     |  +--ipNetToMediaTable(22)\n",
      "            |     |  |  |\n",
      "            |     |  |  +--ipNetToMediaEntry(1)\n",
      "            |     |  |     |  Index: ipNetToMediaIfIndex, ipNetToMediaNetAddress\n",
      "            |     |  |     |\n",
      "            |     |  |     +-- -RW- INTEGER   ipNetToMediaIfIndex(1)\n",
      "            |     |  |     +-- -RW- String    ipNetToMediaPhysAddress(2)\n",
      "            |     |  |     |        Textual Convention: PhysAddress\n",
      "            |     |  |     +-- -RW- IpAddr    ipNetToMediaNetAddress(3)\n",
      "            |     |  |     +-- -RW- EnumVal   ipNetToMediaType(4)\n",
      "            |     |  |              Values: other(1), invalid(2), dynamic(3), static(4)\n",
      "            |     |  |\n",
      "            |     |  +-- -R-- Counter   ipRoutingDiscards(23)\n",
      "            |     |\n",
      "            |     +--icmp(5)\n",
      "            |     |  |\n",
      "            |     |  +-- -R-- Counter   icmpInMsgs(1)\n",
      "            |     |  +-- -R-- Counter   icmpInErrors(2)\n",
      "            |     |  +-- -R-- Counter   icmpInDestUnreachs(3)\n",
      "            |     |  +-- -R-- Counter   icmpInTimeExcds(4)\n",
      "            |     |  +-- -R-- Counter   icmpInParmProbs(5)\n",
      "            |     |  +-- -R-- Counter   icmpInSrcQuenchs(6)\n",
      "            |     |  +-- -R-- Counter   icmpInRedirects(7)\n",
      "            |     |  +-- -R-- Counter   icmpInEchos(8)\n",
      "            |     |  +-- -R-- Counter   icmpInEchoReps(9)\n",
      "            |     |  +-- -R-- Counter   icmpInTimestamps(10)\n",
      "            |     |  +-- -R-- Counter   icmpInTimestampReps(11)\n",
      "            |     |  +-- -R-- Counter   icmpInAddrMasks(12)\n",
      "            |     |  +-- -R-- Counter   icmpInAddrMaskReps(13)\n",
      "            |     |  +-- -R-- Counter   icmpOutMsgs(14)\n",
      "            |     |  +-- -R-- Counter   icmpOutErrors(15)\n",
      "            |     |  +-- -R-- Counter   icmpOutDestUnreachs(16)\n",
      "            |     |  +-- -R-- Counter   icmpOutTimeExcds(17)\n",
      "            |     |  +-- -R-- Counter   icmpOutParmProbs(18)\n",
      "            |     |  +-- -R-- Counter   icmpOutSrcQuenchs(19)\n",
      "            |     |  +-- -R-- Counter   icmpOutRedirects(20)\n",
      "            |     |  +-- -R-- Counter   icmpOutEchos(21)\n",
      "            |     |  +-- -R-- Counter   icmpOutEchoReps(22)\n",
      "            |     |  +-- -R-- Counter   icmpOutTimestamps(23)\n",
      "            |     |  +-- -R-- Counter   icmpOutTimestampReps(24)\n",
      "            |     |  +-- -R-- Counter   icmpOutAddrMasks(25)\n",
      "            |     |  +-- -R-- Counter   icmpOutAddrMaskReps(26)\n",
      "            |     |\n",
      "            |     +--tcp(6)\n",
      "            |     |  |\n",
      "            |     |  +-- -R-- EnumVal   tcpRtoAlgorithm(1)\n",
      "            |     |  |        Values: other(1), constant(2), rsre(3), vanj(4)\n",
      "            |     |  +-- -R-- INTEGER   tcpRtoMin(2)\n",
      "            |     |  +-- -R-- INTEGER   tcpRtoMax(3)\n",
      "            |     |  +-- -R-- INTEGER   tcpMaxConn(4)\n",
      "            |     |  +-- -R-- Counter   tcpActiveOpens(5)\n",
      "            |     |  +-- -R-- Counter   tcpPassiveOpens(6)\n",
      "            |     |  +-- -R-- Counter   tcpAttemptFails(7)\n",
      "            |     |  +-- -R-- Counter   tcpEstabResets(8)\n",
      "            |     |  +-- -R-- Gauge     tcpCurrEstab(9)\n",
      "            |     |  +-- -R-- Counter   tcpInSegs(10)\n",
      "            |     |  +-- -R-- Counter   tcpOutSegs(11)\n",
      "            |     |  +-- -R-- Counter   tcpRetransSegs(12)\n",
      "            |     |  |\n",
      "            |     |  +--tcpConnTable(13)\n",
      "            |     |  |  |\n",
      "            |     |  |  +--tcpConnEntry(1)\n",
      "            |     |  |     |  Index: tcpConnLocalAddress, tcpConnLocalPort, tcpConnRemAddress, tcpConnRemPort\n",
      "            |     |  |     |\n",
      "            |     |  |     +-- -RW- EnumVal   tcpConnState(1)\n",
      "            |     |  |     |        Values: closed(1), listen(2), synSent(3), synReceived(4), established(5), finWait1(6), finWait2(7), closeWait(8), lastAck(9), closing(10), timeWait(11), deleteTCB(12)\n",
      "            |     |  |     +-- -R-- IpAddr    tcpConnLocalAddress(2)\n",
      "            |     |  |     +-- -R-- INTEGER   tcpConnLocalPort(3)\n",
      "            |     |  |     |        Range: 0..65535\n",
      "            |     |  |     +-- -R-- IpAddr    tcpConnRemAddress(4)\n",
      "            |     |  |     +-- -R-- INTEGER   tcpConnRemPort(5)\n",
      "            |     |  |              Range: 0..65535\n",
      "            |     |  |\n",
      "            |     |  +-- -R-- Counter   tcpInErrs(14)\n",
      "            |     |  +-- -R-- Counter   tcpOutRsts(15)\n",
      "            |     |\n",
      "            |     +--udp(7)\n",
      "            |     |  |\n",
      "            |     |  +-- -R-- Counter   udpInDatagrams(1)\n",
      "            |     |  +-- -R-- Counter   udpNoPorts(2)\n",
      "            |     |  +-- -R-- Counter   udpInErrors(3)\n",
      "            |     |  +-- -R-- Counter   udpOutDatagrams(4)\n",
      "            |     |  |\n",
      "            |     |  +--udpTable(5)\n",
      "            |     |     |\n",
      "            |     |     +--udpEntry(1)\n",
      "            |     |        |  Index: udpLocalAddress, udpLocalPort\n",
      "            |     |        |\n",
      "            |     |        +-- -R-- IpAddr    udpLocalAddress(1)\n",
      "            |     |        +-- -R-- INTEGER   udpLocalPort(2)\n",
      "            |     |                 Range: 0..65535\n",
      "            |     |\n",
      "            |     +--egp(8)\n",
      "            |     |  |\n",
      "            |     |  +-- -R-- Counter   egpInMsgs(1)\n",
      "            |     |  +-- -R-- Counter   egpInErrors(2)\n",
      "            |     |  +-- -R-- Counter   egpOutMsgs(3)\n",
      "            |     |  +-- -R-- Counter   egpOutErrors(4)\n",
      "            |     |  |\n",
      "            |     |  +--egpNeighTable(5)\n",
      "            |     |  |  |\n",
      "            |     |  |  +--egpNeighEntry(1)\n",
      "            |     |  |     |  Index: egpNeighAddr\n",
      "            |     |  |     |\n",
      "            |     |  |     +-- -R-- EnumVal   egpNeighState(1)\n",
      "            |     |  |     |        Values: idle(1), acquisition(2), down(3), up(4), cease(5)\n",
      "            |     |  |     +-- -R-- IpAddr    egpNeighAddr(2)\n",
      "            |     |  |     +-- -R-- INTEGER   egpNeighAs(3)\n",
      "            |     |  |     +-- -R-- Counter   egpNeighInMsgs(4)\n",
      "            |     |  |     +-- -R-- Counter   egpNeighInErrs(5)\n",
      "            |     |  |     +-- -R-- Counter   egpNeighOutMsgs(6)\n",
      "            |     |  |     +-- -R-- Counter   egpNeighOutErrs(7)\n",
      "            |     |  |     +-- -R-- Counter   egpNeighInErrMsgs(8)\n",
      "            |     |  |     +-- -R-- Counter   egpNeighOutErrMsgs(9)\n",
      "            |     |  |     +-- -R-- Counter   egpNeighStateUps(10)\n",
      "            |     |  |     +-- -R-- Counter   egpNeighStateDowns(11)\n",
      "            |     |  |     +-- -R-- INTEGER   egpNeighIntervalHello(12)\n",
      "            |     |  |     +-- -R-- INTEGER   egpNeighIntervalPoll(13)\n",
      "            |     |  |     +-- -R-- EnumVal   egpNeighMode(14)\n",
      "            |     |  |     |        Values: active(1), passive(2)\n",
      "            |     |  |     +-- -RW- EnumVal   egpNeighEventTrigger(15)\n",
      "            |     |  |              Values: start(1), stop(2)\n",
      "            |     |  |\n",
      "            |     |  +-- -R-- INTEGER   egpAs(6)\n",
      "            |     |\n",
      "            |     +--transmission(10)\n",
      "            |     |\n",
      "            |     +--snmp(11)\n",
      "            |        |\n",
      "            |        +-- -R-- Counter   snmpInPkts(1)\n",
      "            |        +-- -R-- Counter   snmpOutPkts(2)\n",
      "            |        +-- -R-- Counter   snmpInBadVersions(3)\n",
      "            |        +-- -R-- Counter   snmpInBadCommunityNames(4)\n",
      "            |        +-- -R-- Counter   snmpInBadCommunityUses(5)\n",
      "            |        +-- -R-- Counter   snmpInASNParseErrs(6)\n",
      "            |        +-- -R-- Counter   snmpInTooBigs(8)\n",
      "            |        +-- -R-- Counter   snmpInNoSuchNames(9)\n",
      "            |        +-- -R-- Counter   snmpInBadValues(10)\n",
      "            |        +-- -R-- Counter   snmpInReadOnlys(11)\n",
      "            |        +-- -R-- Counter   snmpInGenErrs(12)\n",
      "            |        +-- -R-- Counter   snmpInTotalReqVars(13)\n",
      "            |        +-- -R-- Counter   snmpInTotalSetVars(14)\n",
      "            |        +-- -R-- Counter   snmpInGetRequests(15)\n",
      "            |        +-- -R-- Counter   snmpInGetNexts(16)\n",
      "            |        +-- -R-- Counter   snmpInSetRequests(17)\n",
      "            |        +-- -R-- Counter   snmpInGetResponses(18)\n",
      "            |        +-- -R-- Counter   snmpInTraps(19)\n",
      "            |        +-- -R-- Counter   snmpOutTooBigs(20)\n",
      "            |        +-- -R-- Counter   snmpOutNoSuchNames(21)\n",
      "            |        +-- -R-- Counter   snmpOutBadValues(22)\n",
      "            |        +-- -R-- Counter   snmpOutGenErrs(24)\n",
      "            |        +-- -R-- Counter   snmpOutGetRequests(25)\n",
      "            |        +-- -R-- Counter   snmpOutGetNexts(26)\n",
      "            |        +-- -R-- Counter   snmpOutSetRequests(27)\n",
      "            |        +-- -R-- Counter   snmpOutGetResponses(28)\n",
      "            |        +-- -R-- Counter   snmpOutTraps(29)\n",
      "            |        +-- -RW- EnumVal   snmpEnableAuthenTraps(30)\n",
      "            |                 Values: enabled(1), disabled(2)\n",
      "            |\n",
      "            +--experimental(3)\n",
      "            |\n",
      "            +--private(4)\n",
      "               |\n",
      "               +--enterprises(1)\n"
     ]
    }
   ],
   "source": [
    "%%bash\n",
    "\n",
    "# Variables\n",
    "MIB=\"/usr/share/snmp/mibs/ietf/RFC1213-MIB\"\n",
    "\n",
    "snmptranslate -m $MIB -Tp"
   ]
  },
  {
   "cell_type": "markdown",
   "metadata": {},
   "source": [
    "## Show the description of a specific object"
   ]
  },
  {
   "cell_type": "code",
   "execution_count": 6,
   "metadata": {},
   "outputs": [
    {
     "name": "stdout",
     "output_type": "stream",
     "text": [
      "sysDescr OBJECT-TYPE\n",
      "    SYNTAX  DisplayString (SIZE (0..255))\n",
      "    ACCESS  read-only\n",
      "    STATUS  mandatory\n",
      "    DESCRIPTION\n",
      "            \"A textual description of the entity.  This value\n",
      "            should include the full name and version\n",
      "            identification of the system's hardware type,\n",
      "            software operating-system, and networking\n",
      "            software.  It is mandatory that this only contain\n",
      "            printable ASCII characters.\"\n",
      "    ::= { system 1 }\n"
     ]
    }
   ],
   "source": [
    "%%bash\n",
    "\n",
    "# Variables\n",
    "OBJECT=\"sysDescr\"\n",
    "MIB=\"/usr/share/snmp/mibs/ietf/RFC1213-MIB\"\n",
    "\n",
    "# Command to extract text from search_string to } excluding the }\n",
    "sed -n \"/$OBJECT OBJECT-TYPE/,/}/p\" $MIB"
   ]
  },
  {
   "cell_type": "markdown",
   "metadata": {},
   "source": [
    "## Using snmpget"
   ]
  },
  {
   "cell_type": "code",
   "execution_count": 7,
   "metadata": {},
   "outputs": [
    {
     "name": "stdout",
     "output_type": "stream",
     "text": [
      "SNMPv2-MIB::sysDescr.0 = STRING: Linux codespaces-8c38ac 6.5.0-1022-azure #23~22.04.1-Ubuntu SMP Thu May  9 17:59:24 UTC 2024 x86_64\n",
      "SNMPv2-MIB::sysContact.0 = STRING: root\n"
     ]
    }
   ],
   "source": [
    "%%bash\n",
    "\n",
    "# snmpget -v <SNMP version> -c <community> <host> <obj1> <obj2> <obj3> \n",
    "\n",
    "snmpget -v 1 -c public localhost sysDescr.0 sysContact.0"
   ]
  },
  {
   "cell_type": "markdown",
   "metadata": {},
   "source": [
    "## Using snmpset"
   ]
  },
  {
   "cell_type": "code",
   "execution_count": 8,
   "metadata": {},
   "outputs": [
    {
     "name": "stdout",
     "output_type": "stream",
     "text": [
      "SNMPv2-MIB::sysContact.0 = STRING: admin@localhost\n",
      "SNMPv2-MIB::sysContact.0 = STRING: admin@localhost\n"
     ]
    }
   ],
   "source": [
    "%%bash\n",
    "\n",
    "snmpset -v 1 -c private localhost sysContact.0 s admin@localhost\n",
    "snmpget -v 1 -c public localhost sysContact.0"
   ]
  },
  {
   "cell_type": "markdown",
   "metadata": {},
   "source": [
    "## Using snmpgetnext"
   ]
  },
  {
   "cell_type": "code",
   "execution_count": 9,
   "metadata": {},
   "outputs": [
    {
     "name": "stdout",
     "output_type": "stream",
     "text": [
      "SNMPv2-MIB::sysDescr.0 = STRING: Linux codespaces-8c38ac 6.5.0-1022-azure #23~22.04.1-Ubuntu SMP Thu May  9 17:59:24 UTC 2024 x86_64\n",
      "IF-MIB::ifNumber.0 = INTEGER: 3\n"
     ]
    }
   ],
   "source": [
    "%%bash\n",
    "\n",
    "snmpgetnext -v 1 -c public localhost system interfaces"
   ]
  },
  {
   "cell_type": "markdown",
   "metadata": {},
   "source": [
    "## Using snmpwalk"
   ]
  },
  {
   "cell_type": "code",
   "execution_count": 10,
   "metadata": {},
   "outputs": [
    {
     "name": "stdout",
     "output_type": "stream",
     "text": [
      "SNMPv2-MIB::sysDescr.0 = STRING: Linux codespaces-8c38ac 6.5.0-1022-azure #23~22.04.1-Ubuntu SMP Thu May  9 17:59:24 UTC 2024 x86_64\n",
      "SNMPv2-MIB::sysObjectID.0 = OID: NET-SNMP-MIB::netSnmpAgentOIDs.10\n",
      "DISMAN-EVENT-MIB::sysUpTimeInstance = Timeticks: (2951) 0:00:29.51\n",
      "SNMPv2-MIB::sysContact.0 = STRING: admin@localhost\n",
      "SNMPv2-MIB::sysName.0 = STRING: codespaces-8c38ac\n",
      "SNMPv2-MIB::sysLocation.0 = STRING: Unknown\n",
      "SNMPv2-MIB::sysORLastChange.0 = Timeticks: (1) 0:00:00.01\n",
      "SNMPv2-MIB::sysORID.1 = OID: SNMP-FRAMEWORK-MIB::snmpFrameworkMIBCompliance\n",
      "SNMPv2-MIB::sysORID.2 = OID: SNMP-MPD-MIB::snmpMPDCompliance\n",
      "SNMPv2-MIB::sysORID.3 = OID: SNMP-USER-BASED-SM-MIB::usmMIBCompliance\n",
      "SNMPv2-MIB::sysORID.4 = OID: SNMPv2-MIB::snmpMIB\n",
      "SNMPv2-MIB::sysORID.5 = OID: SNMP-VIEW-BASED-ACM-MIB::vacmBasicGroup\n",
      "SNMPv2-MIB::sysORID.6 = OID: TCP-MIB::tcpMIB\n",
      "SNMPv2-MIB::sysORID.7 = OID: IP-MIB::ip\n",
      "SNMPv2-MIB::sysORID.8 = OID: UDP-MIB::udpMIB\n",
      "SNMPv2-MIB::sysORID.9 = OID: SNMP-NOTIFICATION-MIB::snmpNotifyFullCompliance\n",
      "SNMPv2-MIB::sysORID.10 = OID: NOTIFICATION-LOG-MIB::notificationLogMIB\n",
      "SNMPv2-MIB::sysORDescr.1 = STRING: The SNMP Management Architecture MIB.\n",
      "SNMPv2-MIB::sysORDescr.2 = STRING: The MIB for Message Processing and Dispatching.\n",
      "SNMPv2-MIB::sysORDescr.3 = STRING: The management information definitions for the SNMP User-based Security Model.\n",
      "SNMPv2-MIB::sysORDescr.4 = STRING: The MIB module for SNMPv2 entities\n",
      "SNMPv2-MIB::sysORDescr.5 = STRING: View-based Access Control Model for SNMP.\n",
      "SNMPv2-MIB::sysORDescr.6 = STRING: The MIB module for managing TCP implementations\n",
      "SNMPv2-MIB::sysORDescr.7 = STRING: The MIB module for managing IP and ICMP implementations\n",
      "SNMPv2-MIB::sysORDescr.8 = STRING: The MIB module for managing UDP implementations\n",
      "SNMPv2-MIB::sysORDescr.9 = STRING: The MIB modules for managing SNMP Notification, plus filtering.\n",
      "SNMPv2-MIB::sysORDescr.10 = STRING: The MIB module for logging SNMP Notifications.\n",
      "SNMPv2-MIB::sysORUpTime.1 = Timeticks: (1) 0:00:00.01\n",
      "SNMPv2-MIB::sysORUpTime.2 = Timeticks: (1) 0:00:00.01\n",
      "SNMPv2-MIB::sysORUpTime.3 = Timeticks: (1) 0:00:00.01\n",
      "SNMPv2-MIB::sysORUpTime.4 = Timeticks: (1) 0:00:00.01\n",
      "SNMPv2-MIB::sysORUpTime.5 = Timeticks: (1) 0:00:00.01\n",
      "SNMPv2-MIB::sysORUpTime.6 = Timeticks: (1) 0:00:00.01\n",
      "SNMPv2-MIB::sysORUpTime.7 = Timeticks: (1) 0:00:00.01\n",
      "SNMPv2-MIB::sysORUpTime.8 = Timeticks: (1) 0:00:00.01\n",
      "SNMPv2-MIB::sysORUpTime.9 = Timeticks: (1) 0:00:00.01\n",
      "SNMPv2-MIB::sysORUpTime.10 = Timeticks: (1) 0:00:00.01\n"
     ]
    }
   ],
   "source": [
    "%%bash\n",
    "\n",
    "# run on terminal: sudo tcpdump -i lo -n port 161 -v\n",
    "snmpwalk -v 1 -c public localhost system"
   ]
  },
  {
   "cell_type": "markdown",
   "metadata": {},
   "source": [
    "## Other commands"
   ]
  },
  {
   "cell_type": "code",
   "execution_count": 11,
   "metadata": {},
   "outputs": [
    {
     "name": "stdout",
     "output_type": "stream",
     "text": [
      "SNMP table: IF-MIB::ifTable\n",
      "\n",
      " ifIndex                           ifDescr           ifType ifMtu    ifSpeed     ifPhysAddress ifAdminStatus ifOperStatus ifLastChange ifInOctets ifInUcastPkts ifInNUcastPkts ifInDiscards ifInErrors ifInUnknownProtos ifOutOctets ifOutUcastPkts ifOutNUcastPkts ifOutDiscards ifOutErrors ifOutQLen              ifSpecific\n",
      "       1                                lo softwareLoopback 65536   10000000                              up           up 0:0:00:00.00   13796879         91761              0            0          0                 0    13796879          91761               0             0           0         0 SNMPv2-SMI::zeroDotZero\n",
      "       2 Microsoft Corporation Device 0003   ethernetCsmacd  1500 4294967295 60:45:bd:b2:4b:d4            up           up 0:0:00:00.00 3218624030       2362714              0            0          0                 0   261599660         241853               0             0           0         0 SNMPv2-SMI::zeroDotZero\n",
      "       3                           docker0   ethernetCsmacd  1500          0  2:42:29:48:ec:55            up         down 0:0:00:00.00          0             0              0            0          0                 0           0              0               0             0           0         0 SNMPv2-SMI::zeroDotZero\n"
     ]
    }
   ],
   "source": [
    "%%bash\n",
    "\n",
    "snmptable -v 1 -c public localhost ifTable"
   ]
  },
  {
   "cell_type": "code",
   "execution_count": 13,
   "metadata": {},
   "outputs": [
    {
     "ename": "KeyboardInterrupt",
     "evalue": "",
     "output_type": "error",
     "traceback": [
      "\u001b[0;31m---------------------------------------------------------------------------\u001b[0m",
      "\u001b[0;31mKeyboardInterrupt\u001b[0m                         Traceback (most recent call last)",
      "Cell \u001b[0;32mIn[13], line 1\u001b[0m\n\u001b[0;32m----> 1\u001b[0m \u001b[43mget_ipython\u001b[49m()\u001b[38;5;241m.\u001b[39mrun_cell_magic(\u001b[38;5;124m'\u001b[39m\u001b[38;5;124mbash\u001b[39m\u001b[38;5;124m'\u001b[39m, \u001b[38;5;124m'\u001b[39m\u001b[38;5;124m'\u001b[39m, \u001b[38;5;124m'\u001b[39m\u001b[38;5;130;01m\\n\u001b[39;00m\u001b[38;5;124msnmpdelta -v 1 -c public -Cs -CT localhost sysUpTime.0\u001b[39m\u001b[38;5;130;01m\\n\u001b[39;00m\u001b[38;5;124m'\u001b[39m)\n",
      "Cell \u001b[0;32mIn[13], line 1\u001b[0m\n\u001b[0;32m----> 1\u001b[0m \u001b[43mget_ipython\u001b[49m()\u001b[38;5;241m.\u001b[39mrun_cell_magic(\u001b[38;5;124m'\u001b[39m\u001b[38;5;124mbash\u001b[39m\u001b[38;5;124m'\u001b[39m, \u001b[38;5;124m'\u001b[39m\u001b[38;5;124m'\u001b[39m, \u001b[38;5;124m'\u001b[39m\u001b[38;5;130;01m\\n\u001b[39;00m\u001b[38;5;124msnmpdelta -v 1 -c public -Cs -CT localhost sysUpTime.0\u001b[39m\u001b[38;5;130;01m\\n\u001b[39;00m\u001b[38;5;124m'\u001b[39m)\n",
      "File \u001b[0;32m_pydevd_bundle/pydevd_cython.pyx:1457\u001b[0m, in \u001b[0;36m_pydevd_bundle.pydevd_cython.SafeCallWrapper.__call__\u001b[0;34m()\u001b[0m\n",
      "File \u001b[0;32m_pydevd_bundle/pydevd_cython.pyx:701\u001b[0m, in \u001b[0;36m_pydevd_bundle.pydevd_cython.PyDBFrame.trace_dispatch\u001b[0;34m()\u001b[0m\n",
      "File \u001b[0;32m_pydevd_bundle/pydevd_cython.pyx:1152\u001b[0m, in \u001b[0;36m_pydevd_bundle.pydevd_cython.PyDBFrame.trace_dispatch\u001b[0;34m()\u001b[0m\n",
      "File \u001b[0;32m_pydevd_bundle/pydevd_cython.pyx:1135\u001b[0m, in \u001b[0;36m_pydevd_bundle.pydevd_cython.PyDBFrame.trace_dispatch\u001b[0;34m()\u001b[0m\n",
      "File \u001b[0;32m_pydevd_bundle/pydevd_cython.pyx:312\u001b[0m, in \u001b[0;36m_pydevd_bundle.pydevd_cython.PyDBFrame.do_wait_suspend\u001b[0;34m()\u001b[0m\n",
      "File \u001b[0;32m~/.local/lib/python3.10/site-packages/debugpy/_vendored/pydevd/pydevd.py:2070\u001b[0m, in \u001b[0;36mPyDB.do_wait_suspend\u001b[0;34m(self, thread, frame, event, arg, exception_type)\u001b[0m\n\u001b[1;32m   2067\u001b[0m             from_this_thread\u001b[38;5;241m.\u001b[39mappend(frame_custom_thread_id)\n\u001b[1;32m   2069\u001b[0m     \u001b[38;5;28;01mwith\u001b[39;00m \u001b[38;5;28mself\u001b[39m\u001b[38;5;241m.\u001b[39m_threads_suspended_single_notification\u001b[38;5;241m.\u001b[39mnotify_thread_suspended(thread_id, thread, stop_reason):\n\u001b[0;32m-> 2070\u001b[0m         keep_suspended \u001b[38;5;241m=\u001b[39m \u001b[38;5;28;43mself\u001b[39;49m\u001b[38;5;241;43m.\u001b[39;49m\u001b[43m_do_wait_suspend\u001b[49m\u001b[43m(\u001b[49m\u001b[43mthread\u001b[49m\u001b[43m,\u001b[49m\u001b[43m \u001b[49m\u001b[43mframe\u001b[49m\u001b[43m,\u001b[49m\u001b[43m \u001b[49m\u001b[43mevent\u001b[49m\u001b[43m,\u001b[49m\u001b[43m \u001b[49m\u001b[43marg\u001b[49m\u001b[43m,\u001b[49m\u001b[43m \u001b[49m\u001b[43msuspend_type\u001b[49m\u001b[43m,\u001b[49m\u001b[43m \u001b[49m\u001b[43mfrom_this_thread\u001b[49m\u001b[43m,\u001b[49m\u001b[43m \u001b[49m\u001b[43mframes_tracker\u001b[49m\u001b[43m)\u001b[49m\n\u001b[1;32m   2072\u001b[0m frames_list \u001b[38;5;241m=\u001b[39m \u001b[38;5;28;01mNone\u001b[39;00m\n\u001b[1;32m   2074\u001b[0m \u001b[38;5;28;01mif\u001b[39;00m keep_suspended:\n\u001b[1;32m   2075\u001b[0m     \u001b[38;5;66;03m# This means that we should pause again after a set next statement.\u001b[39;00m\n",
      "File \u001b[0;32m~/.local/lib/python3.10/site-packages/debugpy/_vendored/pydevd/pydevd.py:2106\u001b[0m, in \u001b[0;36mPyDB._do_wait_suspend\u001b[0;34m(self, thread, frame, event, arg, suspend_type, from_this_thread, frames_tracker)\u001b[0m\n\u001b[1;32m   2103\u001b[0m         \u001b[38;5;28mself\u001b[39m\u001b[38;5;241m.\u001b[39m_call_input_hook()\n\u001b[1;32m   2105\u001b[0m     \u001b[38;5;28mself\u001b[39m\u001b[38;5;241m.\u001b[39mprocess_internal_commands()\n\u001b[0;32m-> 2106\u001b[0m     \u001b[43mtime\u001b[49m\u001b[38;5;241;43m.\u001b[39;49m\u001b[43msleep\u001b[49m\u001b[43m(\u001b[49m\u001b[38;5;241;43m0.01\u001b[39;49m\u001b[43m)\u001b[49m\n\u001b[1;32m   2108\u001b[0m \u001b[38;5;28mself\u001b[39m\u001b[38;5;241m.\u001b[39mcancel_async_evaluation(get_current_thread_id(thread), \u001b[38;5;28mstr\u001b[39m(\u001b[38;5;28mid\u001b[39m(frame)))\n\u001b[1;32m   2110\u001b[0m \u001b[38;5;66;03m# process any stepping instructions\u001b[39;00m\n",
      "\u001b[0;31mKeyboardInterrupt\u001b[0m: "
     ]
    }
   ],
   "source": [
    "%%bash\n",
    "\n",
    "snmpdelta -v 1 -c public -Cs -CT localhost sysUpTime.0"
   ]
  },
  {
   "cell_type": "code",
   "execution_count": 14,
   "metadata": {},
   "outputs": [],
   "source": [
    "%%bash\n",
    "\n",
    "killall snmpdelta"
   ]
  },
  {
   "cell_type": "markdown",
   "metadata": {},
   "source": [
    "## Exercícios - SNMPv1"
   ]
  },
  {
   "cell_type": "markdown",
   "metadata": {},
   "source": [
    "a) obter o endereço físico (MAC) da 2a. interface de rede da tabela ifTable"
   ]
  },
  {
   "cell_type": "code",
   "execution_count": null,
   "metadata": {},
   "outputs": [],
   "source": [
    "%%bash\n",
    "\n",
    "snmpget -v 1 -c public localhost ifPhysAddress.2"
   ]
  },
  {
   "cell_type": "markdown",
   "metadata": {},
   "source": [
    "b) obter o número de mensagens ICMP enviadas e recebidas pelo elemento gerenciado"
   ]
  },
  {
   "cell_type": "code",
   "execution_count": null,
   "metadata": {},
   "outputs": [],
   "source": [
    "%%bash\n",
    "\n",
    "snmpget -v 1 -c public localhost icmpInMsgs.0 icmpOutMsgs.0"
   ]
  },
  {
   "cell_type": "markdown",
   "metadata": {},
   "source": [
    "c) obter o número de requisições GET recebidos pelo agente no elemento gerenciado."
   ]
  },
  {
   "cell_type": "code",
   "execution_count": null,
   "metadata": {},
   "outputs": [],
   "source": [
    "%%bash\n",
    "\n",
    "snmpget -v 1 -c public localhost snmpInGetRequests.0"
   ]
  },
  {
   "cell_type": "markdown",
   "metadata": {},
   "source": [
    "d) modificar o nome do elemento gerenciado para \"Gerencia\""
   ]
  },
  {
   "cell_type": "code",
   "execution_count": null,
   "metadata": {},
   "outputs": [],
   "source": [
    "%%bash\n",
    "\n",
    "snmpset -v 1 -c private localhost sysName.0 s \"Gerencia\""
   ]
  },
  {
   "cell_type": "markdown",
   "metadata": {},
   "source": [
    "e) modificar a identificação da localização do elemento gerenciado para \"LabRedes\""
   ]
  },
  {
   "cell_type": "code",
   "execution_count": null,
   "metadata": {},
   "outputs": [],
   "source": [
    "%%bash\n",
    "\n",
    "snmpset -v 1 -c private localhost sysLocation.0 s \"LabRedes\""
   ]
  },
  {
   "cell_type": "markdown",
   "metadata": {},
   "source": [
    "f) obter a descrição da interface localizada na 1a. linha da tabela ifTable"
   ]
  },
  {
   "cell_type": "code",
   "execution_count": null,
   "metadata": {},
   "outputs": [],
   "source": [
    "%%bash\n",
    "\n",
    "snmpgetnext -v 1 -c public localhost ifDescr"
   ]
  },
  {
   "cell_type": "markdown",
   "metadata": {},
   "source": [
    "g) obter o endereço IP, índice da interface na tabela ifTable, máscara de rede e endereço de broadcast da primeira entrada da tabela ipAddrEntry"
   ]
  },
  {
   "cell_type": "code",
   "execution_count": null,
   "metadata": {},
   "outputs": [],
   "source": [
    "%%bash\n",
    "\n",
    "snmpgetnext -v 1 -c public localhost ipAdEntIfIndex ipAdEntNetMask ipAdEntBcastAddr"
   ]
  },
  {
   "cell_type": "markdown",
   "metadata": {},
   "source": [
    "h) obter o endereço local e porta local da primeira linha da tabela udpTable"
   ]
  },
  {
   "cell_type": "code",
   "execution_count": null,
   "metadata": {},
   "outputs": [],
   "source": [
    "%%bash\n",
    "\n",
    "snmpgetnext -v 1 -c public localhost udpLocalPort udpLocalAddress"
   ]
  },
  {
   "cell_type": "markdown",
   "metadata": {},
   "source": [
    "## Using snmpbulkget"
   ]
  },
  {
   "cell_type": "code",
   "execution_count": null,
   "metadata": {},
   "outputs": [],
   "source": [
    "%%bash\n",
    "\n",
    "snmpbulkget -v2c -c public localhost -Cn2 -Cr3 system interfaces ifIndex ifDescr ifSpeed"
   ]
  },
  {
   "cell_type": "code",
   "execution_count": null,
   "metadata": {},
   "outputs": [],
   "source": [
    "%%bash\n",
    "\n",
    "snmpbulkget -v2c -c public localhost -Cn4 -Cr5 tcpInSegs tcpOutSegs tcpRetransSegs tcpInErrs tcpConnState tcpConnLocalAddress tcpConnLocalPort tcpConnRemAddress tcpConnRemPort"
   ]
  },
  {
   "cell_type": "code",
   "execution_count": null,
   "metadata": {},
   "outputs": [],
   "source": [
    "%%bash\n",
    "\n",
    "snmpbulkget -v2c -c public localhost -Cn0 -Cr4 udpLocalAddress udpLocalPort"
   ]
  },
  {
   "cell_type": "markdown",
   "metadata": {},
   "source": [
    "## Comparing snmpwalk vs snmpbulkwalk\n",
    "\n"
   ]
  },
  {
   "cell_type": "code",
   "execution_count": null,
   "metadata": {},
   "outputs": [],
   "source": [
    "%%bash\n",
    "\n",
    "# run on terminal: sudo tcpdump -i lo -n port 161 -v\n",
    "# snmpwalk -v 1 -c public localhost system\n",
    "\n",
    "snmpbulkwalk -v 2c -c public localhost system"
   ]
  },
  {
   "cell_type": "markdown",
   "metadata": {},
   "source": [
    "# Example using pass directive"
   ]
  },
  {
   "cell_type": "markdown",
   "metadata": {},
   "source": [
    "## snmpd.conf"
   ]
  },
  {
   "cell_type": "code",
   "execution_count": 15,
   "metadata": {},
   "outputs": [
    {
     "name": "stdout",
     "output_type": "stream",
     "text": [
      " * snmpd is running\n"
     ]
    }
   ],
   "source": [
    "%%bash\n",
    "\n",
    "# Add pass directive to snmpd.conf\n",
    "sudo tee /etc/snmp/snmpd.conf > /dev/null <<EOF\n",
    "rocommunity public\n",
    "rwcommunity private\n",
    "\n",
    "pass .1.3.6.1.3.1234.1 /usr/bin/python3 /tmp/agent.py\n",
    "EOF\n",
    "\n",
    "# Restart agent - Linux\n",
    "sudo service snmpd restart\n",
    "sudo service snmpd status\n",
    "\n",
    "# Restart agent - Mac\n",
    "# sudo launchctl unload /System/Library/LaunchDaemons/org.net-snmp.snmpd.plist\n",
    "# sudo launchctl load -w /System/Library/LaunchDaemons/org.net-snmp.snmpd.plist"
   ]
  },
  {
   "cell_type": "markdown",
   "metadata": {},
   "source": [
    "## Agent code"
   ]
  },
  {
   "cell_type": "code",
   "execution_count": 16,
   "metadata": {},
   "outputs": [
    {
     "name": "stdout",
     "output_type": "stream",
     "text": [
      "Writing /tmp/agent.py\n"
     ]
    }
   ],
   "source": [
    "%%writefile /tmp/agent.py\n",
    "\n",
    "#!/usr/bin/env python3\n",
    "\n",
    "import sys\n",
    "import datetime\n",
    "import socket\n",
    "import os\n",
    "\n",
    "class node:\n",
    "    data: any\n",
    "    id: int\n",
    "    children = {}\n",
    "    root: node\n",
    "\n",
    "    def get(oid: str): -> node\n",
    "        oids = oid.split(\".\")\n",
    "        curr_node = root\n",
    "        for curr_oid in oids:\n",
    "            curr_node = curr_node.children[curr_oid]\n",
    "\n",
    "        return curr_node\n",
    "\n",
    "    def set(oid: str, data: any):\n",
    "        oids = oid.split(\".\")\n",
    "        curr_node = root\n",
    "        for curr_oid in oids:\n",
    "            curr_node = curr_node.children[curr_oid]\n",
    "\n",
    "        curr_node.data = data\n",
    "    \n",
    "    def getnext(oid: str): -> node\n",
    "        oids = oid.split(\".\")\n",
    "        curr_node = root\n",
    "        for curr_oid in oids:\n",
    "            curr_node = curr_node.children[curr_oid]\n",
    "\n",
    "        if len(curr_node.children) == 0:\n",
    "            while len(curr_node.children) > 1:\n",
    "                curr_node = \n",
    "        \n",
    "        current = 0\n",
    "        next_id = next(iter(curr_node.children))\n",
    "        while len(curr_node.children) > 0 :\n",
    "            curr_node = curr_node.children[next_id]\n",
    "            next_id = next(iter(curr_node.children))\n",
    "        \n",
    "        return curr_node\n",
    "        \n",
    "\n",
    "\n",
    "def get_current_datetime():\n",
    "    now = datetime.datetime.now()\n",
    "    return now.strftime(\"%Y-%m-%d %H:%M:%S\")\n",
    "\n",
    "def get_hostname():\n",
    "    hostname = socket.gethostname()\n",
    "    return hostname\n",
    "\n",
    "def get_file_content():\n",
    "    filepath = '/tmp/myfile.txt'\n",
    "    if not os.path.exists(filepath):\n",
    "        with open(filepath, 'w') as f:\n",
    "            f.write(\"initial\")\n",
    "        return \"initial\"\n",
    "    with open(filepath, 'r') as f:\n",
    "        return f.read()\n",
    "\n",
    "def set_file_content(new_content):\n",
    "    filepath = '/tmp/myfile.txt'\n",
    "    with open(filepath, 'w') as f:\n",
    "        f.write(new_content)\n",
    "    return new_content\n",
    "\n",
    "def main():\n",
    "\n",
    "    info = { \".1.3.6.1.3.1234.1.1.0\": \"Tesla Model S 2024\" }\n",
    "\n",
    "    #caso do oid incompleto\n",
    "    if !info.contains(oid):\n",
    "        #iterar sobre as chaves checando qual chave contem o oid e retornar a primeira\n",
    "    else:\n",
    "        #pegar o próximo objeto a partir da entrada na tabela\n",
    "\n",
    "    with open(\"/tmp/agent.log\", 'a') as file:\n",
    "        file.write(' '.join(sys.argv) + '\\n')\n",
    "\n",
    "    if len(sys.argv) < 3:\n",
    "        print(\"Usage: agent.py <request-type> <MIB-oid> [type] [<new-value>]\")\n",
    "        return\n",
    "\n",
    "    \".1.3.6.1.3.1234.1.1\"\n",
    "\n",
    "    request_type = sys.argv[1]\n",
    "    oid = sys.argv[2]\n",
    "\n",
    "    if request_type == \"-g\":  # GET request\n",
    "        if oid == \".1.3.6.1.3.1234.1.1.0\":\n",
    "            print(\".1.3.6.1.3.1234.1.1.0\")\n",
    "            print(\"string\")\n",
    "            print(get_current_datetime())\n",
    "        elif oid == \".1.3.6.1.3.1234.1.2.0\":\n",
    "            print(\".1.3.6.1.3.1234.1.2.0\")\n",
    "            print(\"string\")\n",
    "            print(get_hostname())\n",
    "        elif oid == \".1.3.6.1.3.1234.1.3.0\":\n",
    "            print(\".1.3.6.1.3.1234.1.3.0\")\n",
    "            print(\"string\")\n",
    "            print(get_file_content())\n",
    "        else:\n",
    "            print(\"NONE\")\n",
    "    elif request_type == \"-s\":  # SET request\n",
    "        if oid == \".1.3.6.1.3.1234.1.3.0\" and len(sys.argv) == 5:\n",
    "            new_content = sys.argv[4]\n",
    "            print(\".1.3.6.1.3.1234.1.3.0\")\n",
    "            print(\"string\")\n",
    "            print(set_file_content(new_content))\n",
    "        else:\n",
    "            print(\"NONE\")\n",
    "    else:\n",
    "        print(\"NONE\")\n",
    "\n",
    "if __name__ == \"__main__\":\n",
    "    main()"
   ]
  },
  {
   "cell_type": "markdown",
   "metadata": {},
   "source": [
    "## Testing"
   ]
  },
  {
   "cell_type": "code",
   "execution_count": 17,
   "metadata": {},
   "outputs": [
    {
     "name": "stdout",
     "output_type": "stream",
     "text": [
      "SNMPv2-SMI::experimental.1234.1.1.0 = No Such Instance currently exists at this OID\n",
      "SNMPv2-SMI::experimental.1234.1.2.0 = No Such Instance currently exists at this OID\n",
      "SNMPv2-SMI::experimental.1234.1.3.0 = No Such Instance currently exists at this OID\n"
     ]
    }
   ],
   "source": [
    "%%bash\n",
    "\n",
    "snmpget -v2c -c public localhost .1.3.6.1.3.1234.1.1.0\n",
    "snmpget -v2c -c public localhost .1.3.6.1.3.1234.1.2.0\n",
    "snmpget -v2c -c public localhost .1.3.6.1.3.1234.1.3.0"
   ]
  },
  {
   "cell_type": "code",
   "execution_count": 18,
   "metadata": {},
   "outputs": [
    {
     "name": "stdout",
     "output_type": "stream",
     "text": [
      "SNMPv2-SMI::experimental.1234.1.3.0 = STRING: \"teste\"\n"
     ]
    }
   ],
   "source": [
    "%%bash\n",
    "\n",
    "snmpset -v2c -c private localhost .1.3.6.1.3.1234.1.3.0 s teste"
   ]
  },
  {
   "cell_type": "code",
   "execution_count": 20,
   "metadata": {},
   "outputs": [
    {
     "name": "stdout",
     "output_type": "stream",
     "text": [
      "Overwriting MYMIB.txt\n"
     ]
    }
   ],
   "source": [
    "%%writefile MYMIB.txt\n",
    "\n",
    "MIB-T2 DEFINITIONS ::= BEGIN\n",
    "\n",
    "IMPORTS\n",
    "    OBJECT-GROUP FROM SNMPv2-CONF\n",
    "    OBJECT-TYPE, experimental FROM SNMPv2-SMI\n",
    "    DisplayString FROM SNMPv2-TC;\n",
    "\n",
    "teslaMIB MODULE-IDENTITY\n",
    "    LAST-UPDATED \"202406290000Z\"\n",
    "    ORGANIZATION \"PUCRS\"\n",
    "    CONTACT-INFO \"admin@localhost\"\n",
    "    DESCRIPTION \"MIB for acessing information about tesla cars.\"\n",
    "::= { experimental 1234 }\n",
    "\n",
    "t_Info OBJECT IDENTIFIER ::= { teslaMIB 1 }\n",
    "\n",
    "t_ModelName OBJECT-TYPE\n",
    "    SYNTAX  DisplayString (SIZE (0..255))\n",
    "    ACCESS  read-only\n",
    "    STATUS  mandatory\n",
    "    DESCRIPTION\n",
    "            \"Tesla model name.\"\n",
    "    ::= { t_Info 1 }\n",
    "\n",
    "t_ManDate OBJECT-TYPE\n",
    "    SYNTAX  DisplayString (SIZE (0..255))\n",
    "    ACCESS  read-only\n",
    "    STATUS  mandatory\n",
    "    DESCRIPTION\n",
    "            \"Tesla manufacturing date\"\n",
    "    ::= { t_Info 2 }\n",
    "\n",
    "t_ACTemp OBJECT-TYPE\n",
    "    SYNTAX  INTEGER\n",
    "    ACCESS  read-write\n",
    "    STATUS  mandatory\n",
    "    DESCRIPTION\n",
    "            \"Temperature set on the air conditioner on celsius.\"\n",
    "    ::= { t_Info 3 }\n",
    "\n",
    "t_BatteryPercentage OBJECT-TYPE\n",
    "    SYNTAX  INTEGER (0..100)\n",
    "    ACCESS  read-only\n",
    "    STATUS  mandatory\n",
    "    DESCRIPTION\n",
    "            \"Tesla battery percentage\"\n",
    "    ::= { t_Info 4 }\n",
    "\n",
    "t_HP OBJECT-TYPE\n",
    "    SYNTAX  INTEGER\n",
    "    ACCESS  read-only\n",
    "    STATUS  mandatory\n",
    "    DESCRIPTION\n",
    "            \"Tesla HP\"\n",
    "    ::= { t_Info 5 }\n",
    "\n",
    "t_MaxSpeed OBJECT-TYPE\n",
    "    SYNTAX  INTEGER\n",
    "    ACCESS  read-only\n",
    "    STATUS  mandatory\n",
    "    DESCRIPTION\n",
    "            \"Tesla max speed reached\"\n",
    "    ::= { t_Info 6 }\n",
    "\n",
    "t_InterLigths OBJECT-TYPE\n",
    "    SYNTAX  INTEGER {\n",
    "                    on(1),\n",
    "                    off(2),\n",
    "                    door(3)\n",
    "                }\n",
    "    ACCESS  read-only\n",
    "    STATUS  read-write\n",
    "    DESCRIPTION\n",
    "            \"Tesla interior lights config\"\n",
    "    ::= { t_Info 7 }\n",
    "\n",
    "t_DoorTable OBJECT-TYPE \n",
    "    SYNTAX SEQUENCE OF t_DoorEntry\n",
    "    ACCESS not-accessible\n",
    "    STATUS mandatory\n",
    "    DESCRIPTION\n",
    "    \"A list of door info entries.\" \n",
    "    ::= { t_Info 8 }\n",
    "\n",
    "t_DoorEntry OBJECT-TYPE\n",
    "    SYNTAX  t_DoorEntry\n",
    "    ACCESS  not-accessible\n",
    "    STATUS  mandatory\n",
    "    DESCRIPTION \"Information entry about vehicle doors.\"\n",
    "    INDEX   { t_DoorIndex }\n",
    "    ::= { t_DoorTable 1 }\n",
    "\n",
    "t_DoorEntry ::=\n",
    "    SEQUENCE {\n",
    "        t_DoorStatus    INTEGER,\n",
    "        t_DoorWindow    INTEGER\n",
    "    }\n",
    "\n",
    "t_DoorIndex OBJECT-TYPE\n",
    "    SYNTAX  INTEGER { front-right(1), front-left(2), rear-right(3), rear-left(4) }\n",
    "    ACCESS  read-only\n",
    "    STATUS  mandatory\n",
    "    DESCRIPTION \"Door identifier.\"\n",
    "    ::= { t_DoorEntry 3 }\n",
    "\n",
    "t_DoorStatus OBJECT-TYPE\n",
    "    SYNTAX  INTEGER { open(1), closed(2) }\n",
    "    ACCESS  read-write\n",
    "    STATUS  mandatory\n",
    "    DESCRIPTION \"Door status, tracks opening and closing of doors.\"\n",
    "    ::= { t_DoorEntry 2 }\n",
    "\n",
    "t_DoorWindow OBJECT-TYPE\n",
    "    SYNTAX  INTEGER { open(1), half-open(2), closed(3) }\n",
    "    ACCESS  read-only\n",
    "    STATUS  mandatory\n",
    "    DESCRIPTION \"Door window status.\"\n",
    "    ::= { t_DoorEntry 3 }\n",
    "\n",
    "END"
   ]
  },
  {
   "cell_type": "code",
   "execution_count": 21,
   "metadata": {},
   "outputs": [
    {
     "name": "stderr",
     "output_type": "stream",
     "text": [
      "MIB search path: /home/codespace/.snmp/mibs:/usr/share/snmp/mibs:/usr/share/snmp/mibs/iana:/usr/share/snmp/mibs/ietf:.\n",
      "Cannot find module (MYMIB): At line 1 in (none)\n",
      "myCurrentDateTime.0: Unknown Object Identifier (Sub-id not found: (top) -> myCurrentDateTime)\n",
      "MIB search path: /home/codespace/.snmp/mibs:/usr/share/snmp/mibs:/usr/share/snmp/mibs/iana:/usr/share/snmp/mibs/ietf:.\n",
      "Cannot find module (MYMIB): At line 1 in (none)\n",
      "myHostname.0: Unknown Object Identifier (Sub-id not found: (top) -> myHostname)\n",
      "MIB search path: /home/codespace/.snmp/mibs:/usr/share/snmp/mibs:/usr/share/snmp/mibs/iana:/usr/share/snmp/mibs/ietf:.\n",
      "Cannot find module (MYMIB): At line 1 in (none)\n",
      "myFileContent.0: Unknown Object Identifier (Sub-id not found: (top) -> myFileContent)\n"
     ]
    },
    {
     "ename": "CalledProcessError",
     "evalue": "Command 'b'\\nsnmpget -v2c -c public -M +. -m +MYMIB localhost myCurrentDateTime.0\\nsnmpget -v2c -c public -M +. -m +MYMIB localhost myHostname.0\\nsnmpget -v2c -c public -M +. -m +MYMIB localhost myFileContent.0\\n'' returned non-zero exit status 1.",
     "output_type": "error",
     "traceback": [
      "\u001b[0;31m---------------------------------------------------------------------------\u001b[0m",
      "\u001b[0;31mCalledProcessError\u001b[0m                        Traceback (most recent call last)",
      "Cell \u001b[0;32mIn[21], line 1\u001b[0m\n\u001b[0;32m----> 1\u001b[0m \u001b[43mget_ipython\u001b[49m\u001b[43m(\u001b[49m\u001b[43m)\u001b[49m\u001b[38;5;241;43m.\u001b[39;49m\u001b[43mrun_cell_magic\u001b[49m\u001b[43m(\u001b[49m\u001b[38;5;124;43m'\u001b[39;49m\u001b[38;5;124;43mbash\u001b[39;49m\u001b[38;5;124;43m'\u001b[39;49m\u001b[43m,\u001b[49m\u001b[43m \u001b[49m\u001b[38;5;124;43m'\u001b[39;49m\u001b[38;5;124;43m'\u001b[39;49m\u001b[43m,\u001b[49m\u001b[43m \u001b[49m\u001b[38;5;124;43m'\u001b[39;49m\u001b[38;5;130;43;01m\\n\u001b[39;49;00m\u001b[38;5;124;43msnmpget -v2c -c public -M +. -m +MYMIB localhost myCurrentDateTime.0\u001b[39;49m\u001b[38;5;130;43;01m\\n\u001b[39;49;00m\u001b[38;5;124;43msnmpget -v2c -c public -M +. -m +MYMIB localhost myHostname.0\u001b[39;49m\u001b[38;5;130;43;01m\\n\u001b[39;49;00m\u001b[38;5;124;43msnmpget -v2c -c public -M +. -m +MYMIB localhost myFileContent.0\u001b[39;49m\u001b[38;5;130;43;01m\\n\u001b[39;49;00m\u001b[38;5;124;43m'\u001b[39;49m\u001b[43m)\u001b[49m\n",
      "File \u001b[0;32m~/.local/lib/python3.10/site-packages/IPython/core/interactiveshell.py:2541\u001b[0m, in \u001b[0;36mInteractiveShell.run_cell_magic\u001b[0;34m(self, magic_name, line, cell)\u001b[0m\n\u001b[1;32m   2539\u001b[0m \u001b[38;5;28;01mwith\u001b[39;00m \u001b[38;5;28mself\u001b[39m\u001b[38;5;241m.\u001b[39mbuiltin_trap:\n\u001b[1;32m   2540\u001b[0m     args \u001b[38;5;241m=\u001b[39m (magic_arg_s, cell)\n\u001b[0;32m-> 2541\u001b[0m     result \u001b[38;5;241m=\u001b[39m \u001b[43mfn\u001b[49m\u001b[43m(\u001b[49m\u001b[38;5;241;43m*\u001b[39;49m\u001b[43margs\u001b[49m\u001b[43m,\u001b[49m\u001b[43m \u001b[49m\u001b[38;5;241;43m*\u001b[39;49m\u001b[38;5;241;43m*\u001b[39;49m\u001b[43mkwargs\u001b[49m\u001b[43m)\u001b[49m\n\u001b[1;32m   2543\u001b[0m \u001b[38;5;66;03m# The code below prevents the output from being displayed\u001b[39;00m\n\u001b[1;32m   2544\u001b[0m \u001b[38;5;66;03m# when using magics with decorator @output_can_be_silenced\u001b[39;00m\n\u001b[1;32m   2545\u001b[0m \u001b[38;5;66;03m# when the last Python token in the expression is a ';'.\u001b[39;00m\n\u001b[1;32m   2546\u001b[0m \u001b[38;5;28;01mif\u001b[39;00m \u001b[38;5;28mgetattr\u001b[39m(fn, magic\u001b[38;5;241m.\u001b[39mMAGIC_OUTPUT_CAN_BE_SILENCED, \u001b[38;5;28;01mFalse\u001b[39;00m):\n",
      "File \u001b[0;32m~/.local/lib/python3.10/site-packages/IPython/core/magics/script.py:155\u001b[0m, in \u001b[0;36mScriptMagics._make_script_magic.<locals>.named_script_magic\u001b[0;34m(line, cell)\u001b[0m\n\u001b[1;32m    153\u001b[0m \u001b[38;5;28;01melse\u001b[39;00m:\n\u001b[1;32m    154\u001b[0m     line \u001b[38;5;241m=\u001b[39m script\n\u001b[0;32m--> 155\u001b[0m \u001b[38;5;28;01mreturn\u001b[39;00m \u001b[38;5;28;43mself\u001b[39;49m\u001b[38;5;241;43m.\u001b[39;49m\u001b[43mshebang\u001b[49m\u001b[43m(\u001b[49m\u001b[43mline\u001b[49m\u001b[43m,\u001b[49m\u001b[43m \u001b[49m\u001b[43mcell\u001b[49m\u001b[43m)\u001b[49m\n",
      "File \u001b[0;32m~/.local/lib/python3.10/site-packages/IPython/core/magics/script.py:315\u001b[0m, in \u001b[0;36mScriptMagics.shebang\u001b[0;34m(self, line, cell)\u001b[0m\n\u001b[1;32m    310\u001b[0m \u001b[38;5;28;01mif\u001b[39;00m args\u001b[38;5;241m.\u001b[39mraise_error \u001b[38;5;129;01mand\u001b[39;00m p\u001b[38;5;241m.\u001b[39mreturncode \u001b[38;5;241m!=\u001b[39m \u001b[38;5;241m0\u001b[39m:\n\u001b[1;32m    311\u001b[0m     \u001b[38;5;66;03m# If we get here and p.returncode is still None, we must have\u001b[39;00m\n\u001b[1;32m    312\u001b[0m     \u001b[38;5;66;03m# killed it but not yet seen its return code. We don't wait for it,\u001b[39;00m\n\u001b[1;32m    313\u001b[0m     \u001b[38;5;66;03m# in case it's stuck in uninterruptible sleep. -9 = SIGKILL\u001b[39;00m\n\u001b[1;32m    314\u001b[0m     rc \u001b[38;5;241m=\u001b[39m p\u001b[38;5;241m.\u001b[39mreturncode \u001b[38;5;129;01mor\u001b[39;00m \u001b[38;5;241m-\u001b[39m\u001b[38;5;241m9\u001b[39m\n\u001b[0;32m--> 315\u001b[0m     \u001b[38;5;28;01mraise\u001b[39;00m CalledProcessError(rc, cell)\n",
      "\u001b[0;31mCalledProcessError\u001b[0m: Command 'b'\\nsnmpget -v2c -c public -M +. -m +MYMIB localhost myCurrentDateTime.0\\nsnmpget -v2c -c public -M +. -m +MYMIB localhost myHostname.0\\nsnmpget -v2c -c public -M +. -m +MYMIB localhost myFileContent.0\\n'' returned non-zero exit status 1."
     ]
    }
   ],
   "source": [
    "%%bash\n",
    "\n",
    "snmpget -v2c -c public -M +. -m +MYMIB localhost myCurrentDateTime.0\n",
    "snmpget -v2c -c public -M +. -m +MYMIB localhost myHostname.0\n",
    "snmpget -v2c -c public -M +. -m +MYMIB localhost myFileContent.0\n"
   ]
  },
  {
   "cell_type": "code",
   "execution_count": 22,
   "metadata": {},
   "outputs": [
    {
     "name": "stderr",
     "output_type": "stream",
     "text": [
      "MIB search path: /home/codespace/.snmp/mibs:/usr/share/snmp/mibs:/usr/share/snmp/mibs/iana:/usr/share/snmp/mibs/ietf:.\n",
      "Cannot find module (MYMIB): At line 1 in (none)\n",
      "myFileContent.0: Unknown Object Identifier (Sub-id not found: (top) -> myFileContent)\n"
     ]
    },
    {
     "ename": "CalledProcessError",
     "evalue": "Command 'b'\\nsnmpset -v2c -c private -M +. -m +MYMIB localhost myFileContent.0 s teste\\n'' returned non-zero exit status 1.",
     "output_type": "error",
     "traceback": [
      "\u001b[0;31m---------------------------------------------------------------------------\u001b[0m",
      "\u001b[0;31mCalledProcessError\u001b[0m                        Traceback (most recent call last)",
      "Cell \u001b[0;32mIn[22], line 1\u001b[0m\n\u001b[0;32m----> 1\u001b[0m \u001b[43mget_ipython\u001b[49m\u001b[43m(\u001b[49m\u001b[43m)\u001b[49m\u001b[38;5;241;43m.\u001b[39;49m\u001b[43mrun_cell_magic\u001b[49m\u001b[43m(\u001b[49m\u001b[38;5;124;43m'\u001b[39;49m\u001b[38;5;124;43mbash\u001b[39;49m\u001b[38;5;124;43m'\u001b[39;49m\u001b[43m,\u001b[49m\u001b[43m \u001b[49m\u001b[38;5;124;43m'\u001b[39;49m\u001b[38;5;124;43m'\u001b[39;49m\u001b[43m,\u001b[49m\u001b[43m \u001b[49m\u001b[38;5;124;43m'\u001b[39;49m\u001b[38;5;130;43;01m\\n\u001b[39;49;00m\u001b[38;5;124;43msnmpset -v2c -c private -M +. -m +MYMIB localhost myFileContent.0 s teste\u001b[39;49m\u001b[38;5;130;43;01m\\n\u001b[39;49;00m\u001b[38;5;124;43m'\u001b[39;49m\u001b[43m)\u001b[49m\n",
      "File \u001b[0;32m~/.local/lib/python3.10/site-packages/IPython/core/interactiveshell.py:2541\u001b[0m, in \u001b[0;36mInteractiveShell.run_cell_magic\u001b[0;34m(self, magic_name, line, cell)\u001b[0m\n\u001b[1;32m   2539\u001b[0m \u001b[38;5;28;01mwith\u001b[39;00m \u001b[38;5;28mself\u001b[39m\u001b[38;5;241m.\u001b[39mbuiltin_trap:\n\u001b[1;32m   2540\u001b[0m     args \u001b[38;5;241m=\u001b[39m (magic_arg_s, cell)\n\u001b[0;32m-> 2541\u001b[0m     result \u001b[38;5;241m=\u001b[39m \u001b[43mfn\u001b[49m\u001b[43m(\u001b[49m\u001b[38;5;241;43m*\u001b[39;49m\u001b[43margs\u001b[49m\u001b[43m,\u001b[49m\u001b[43m \u001b[49m\u001b[38;5;241;43m*\u001b[39;49m\u001b[38;5;241;43m*\u001b[39;49m\u001b[43mkwargs\u001b[49m\u001b[43m)\u001b[49m\n\u001b[1;32m   2543\u001b[0m \u001b[38;5;66;03m# The code below prevents the output from being displayed\u001b[39;00m\n\u001b[1;32m   2544\u001b[0m \u001b[38;5;66;03m# when using magics with decorator @output_can_be_silenced\u001b[39;00m\n\u001b[1;32m   2545\u001b[0m \u001b[38;5;66;03m# when the last Python token in the expression is a ';'.\u001b[39;00m\n\u001b[1;32m   2546\u001b[0m \u001b[38;5;28;01mif\u001b[39;00m \u001b[38;5;28mgetattr\u001b[39m(fn, magic\u001b[38;5;241m.\u001b[39mMAGIC_OUTPUT_CAN_BE_SILENCED, \u001b[38;5;28;01mFalse\u001b[39;00m):\n",
      "File \u001b[0;32m~/.local/lib/python3.10/site-packages/IPython/core/magics/script.py:155\u001b[0m, in \u001b[0;36mScriptMagics._make_script_magic.<locals>.named_script_magic\u001b[0;34m(line, cell)\u001b[0m\n\u001b[1;32m    153\u001b[0m \u001b[38;5;28;01melse\u001b[39;00m:\n\u001b[1;32m    154\u001b[0m     line \u001b[38;5;241m=\u001b[39m script\n\u001b[0;32m--> 155\u001b[0m \u001b[38;5;28;01mreturn\u001b[39;00m \u001b[38;5;28;43mself\u001b[39;49m\u001b[38;5;241;43m.\u001b[39;49m\u001b[43mshebang\u001b[49m\u001b[43m(\u001b[49m\u001b[43mline\u001b[49m\u001b[43m,\u001b[49m\u001b[43m \u001b[49m\u001b[43mcell\u001b[49m\u001b[43m)\u001b[49m\n",
      "File \u001b[0;32m~/.local/lib/python3.10/site-packages/IPython/core/magics/script.py:315\u001b[0m, in \u001b[0;36mScriptMagics.shebang\u001b[0;34m(self, line, cell)\u001b[0m\n\u001b[1;32m    310\u001b[0m \u001b[38;5;28;01mif\u001b[39;00m args\u001b[38;5;241m.\u001b[39mraise_error \u001b[38;5;129;01mand\u001b[39;00m p\u001b[38;5;241m.\u001b[39mreturncode \u001b[38;5;241m!=\u001b[39m \u001b[38;5;241m0\u001b[39m:\n\u001b[1;32m    311\u001b[0m     \u001b[38;5;66;03m# If we get here and p.returncode is still None, we must have\u001b[39;00m\n\u001b[1;32m    312\u001b[0m     \u001b[38;5;66;03m# killed it but not yet seen its return code. We don't wait for it,\u001b[39;00m\n\u001b[1;32m    313\u001b[0m     \u001b[38;5;66;03m# in case it's stuck in uninterruptible sleep. -9 = SIGKILL\u001b[39;00m\n\u001b[1;32m    314\u001b[0m     rc \u001b[38;5;241m=\u001b[39m p\u001b[38;5;241m.\u001b[39mreturncode \u001b[38;5;129;01mor\u001b[39;00m \u001b[38;5;241m-\u001b[39m\u001b[38;5;241m9\u001b[39m\n\u001b[0;32m--> 315\u001b[0m     \u001b[38;5;28;01mraise\u001b[39;00m CalledProcessError(rc, cell)\n",
      "\u001b[0;31mCalledProcessError\u001b[0m: Command 'b'\\nsnmpset -v2c -c private -M +. -m +MYMIB localhost myFileContent.0 s teste\\n'' returned non-zero exit status 1."
     ]
    }
   ],
   "source": [
    "%%bash\n",
    "\n",
    "snmpset -v2c -c private -M +. -m +MYMIB localhost myFileContent.0 s teste"
   ]
  }
 ],
 "metadata": {
  "kernelspec": {
   "display_name": "Python 3",
   "language": "python",
   "name": "python3"
  },
  "language_info": {
   "codemirror_mode": {
    "name": "ipython",
    "version": 3
   },
   "file_extension": ".py",
   "mimetype": "text/x-python",
   "name": "python",
   "nbconvert_exporter": "python",
   "pygments_lexer": "ipython3",
   "version": "3.10.13"
  }
 },
 "nbformat": 4,
 "nbformat_minor": 2
}
